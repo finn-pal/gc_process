{
 "cells": [
  {
   "cell_type": "code",
   "execution_count": 166,
   "id": "e11826d5",
   "metadata": {},
   "outputs": [],
   "source": [
    "import time\n",
    "\n",
    "import gizmo_analysis as gizmo\n",
    "import gc_utils  # type: ignore\n",
    "import h5py\n",
    "import numpy as np\n",
    "import pandas as pd\n",
    "import utilities as ut"
   ]
  },
  {
   "cell_type": "code",
   "execution_count": 2,
   "id": "d3088727",
   "metadata": {},
   "outputs": [
    {
     "name": "stdout",
     "output_type": "stream",
     "text": [
      "\n",
      "# in utilities.simulation.Snapshot():\n",
      "* reading:  simulations/m12i/m12i_res7100/snapshot_times.txt\n",
      "\n",
      "  using snapshot index = 214, redshift = 1.500\n",
      "\n",
      "\n",
      "# in gizmo_analysis.gizmo_io.Read():\n",
      "* reading header from:  simulations/m12i/m12i_res7100/output/snapdir_214/snapshot_214.0.hdf5\n",
      "  snapshot contains the following number of particles:\n",
      "    dark      (id = 1): 70514272 particles\n",
      "    dark2     (id = 2): 5513331 particles\n",
      "    gas       (id = 0): 68214754 particles\n",
      "    star      (id = 4): 2309196 particles\n",
      "    blackhole (id = 5): 0 particles\n",
      "\n",
      "* reading the following\n",
      "  species: ['dark', 'star']\n",
      "\n",
      "* reading particles from:\n",
      "    snapshot_214.0.hdf5\n",
      "    snapshot_214.1.hdf5\n",
      "    snapshot_214.2.hdf5\n",
      "    snapshot_214.3.hdf5\n",
      "\n",
      "* reading cosmological parameters from:  simulations/m12i/m12i_res7100/initial_condition/ic_agora_m12i.conf\n",
      "\n",
      "* checking sanity of particle properties\n",
      "\n",
      "\n",
      "# in gizmo_analysis.gizmo_track.ParticleCoordinate():\n",
      "  read 1 host (position, velocity, principal axes) from:  simulations/m12i/m12i_res7100/track/host_coordinates.hdf5\n",
      "  host1 position = (42695.30, 42783.59, 45008.39) [kpc comoving]\n",
      "  host1 velocity = (-72.7, 143.6, 47.4) [km/s]\n",
      "  host1 axis ratios = (0.40, 0.72, 0.56)\n",
      "\n"
     ]
    }
   ],
   "source": [
    "## function inputs\n",
    "sim = \"m12i\"\n",
    "# snapshot = 600\n",
    "snapshot = 214  # most gcs\n",
    "main_halo_tid = 25236877\n",
    "\n",
    "# sim_dir = \"../../simulations/\"\n",
    "sim_dir = \"../../../simulations/\"  # went up an extra level as in notebook folder\n",
    "data_dict = {}\n",
    "\n",
    "it_lst = [0]\n",
    "\n",
    "fire_dir = sim_dir + sim + \"/\" + sim + \"_res7100/\"\n",
    "\n",
    "# think about species, for basic kinematics just upload star and dark\n",
    "part = gizmo.io.Read.read_snapshots([\"dark\", \"star\"], \"index\", snapshot, fire_dir, assign_hosts_rotation=True)"
   ]
  },
  {
   "cell_type": "code",
   "execution_count": 3,
   "id": "dd94b3dc",
   "metadata": {},
   "outputs": [],
   "source": [
    "proc_file = sim_dir + sim + \"/\" + sim + \"_processed.hdf5\"\n",
    "proc_data = h5py.File(proc_file, \"r\")  # open processed data file"
   ]
  },
  {
   "cell_type": "code",
   "execution_count": null,
   "id": "c88d2236",
   "metadata": {},
   "outputs": [
    {
     "name": "stderr",
     "output_type": "stream",
     "text": [
      "Retrieving Halo Tree.....................: 100%|████████████████████████████████████████████████████████████████████████| 1/1 [00:01<00:00,  1.25s/it]\n"
     ]
    },
    {
     "name": "stdout",
     "output_type": "stream",
     "text": [
      "\n",
      "# in utilities.simulation.Snapshot():\n",
      "* reading:  simulations/m12i/m12i_res7100/snapshot_times.txt\n",
      "\n",
      "  using snapshot index = 210, redshift = 1.540\n",
      "\n",
      "\n",
      "# in utilities.simulation.Snapshot():\n",
      "* reading:  simulations/m12i/m12i_res7100/snapshot_times.txt\n",
      "\n",
      "  using snapshot index = 214, redshift = 1.500\n",
      "\n",
      "\n",
      "# in gizmo_analysis.gizmo_io.Read():\n",
      "* reading header from:  simulations/m12i/m12i_res7100/output/snapdir_214/snapshot_214.0.hdf5\n",
      "  snapshot contains the following number of particles:\n",
      "    dark      (id = 1): 70514272 particles\n",
      "    dark2     (id = 2): 5513331 particles\n",
      "    gas       (id = 0): 68214754 particles\n",
      "    star      (id = 4): 2309196 particles\n",
      "    blackhole (id = 5): 0 particles\n",
      "\n",
      "* reading the following\n",
      "  species: ['star']\n",
      "\n",
      "* reading particles from:\n",
      "    snapshot_214.0.hdf5\n",
      "    snapshot_214.1.hdf5\n",
      "    snapshot_214.2.hdf5\n",
      "    snapshot_214.3.hdf5\n",
      "\n",
      "* reading cosmological parameters from:  simulations/m12i/m12i_res7100/initial_condition/ic_agora_m12i.conf\n",
      "\n",
      "* checking sanity of particle properties\n",
      "\n",
      "\n",
      "# in gizmo_analysis.gizmo_track.ParticleCoordinate():\n",
      "  read 1 host (position, velocity, principal axes) from:  simulations/m12i/m12i_res7100/track/host_coordinates.hdf5\n",
      "  host1 position = (42695.30, 42783.59, 45008.39) [kpc comoving]\n",
      "  host1 velocity = (-72.7, 143.6, 47.4) [km/s]\n",
      "  host1 axis ratios = (0.40, 0.72, 0.56)\n",
      "\n",
      "\n",
      "# in utilities.simulation.Snapshot():\n",
      "* reading:  simulations/m12i/m12i_res7100/snapshot_times.txt\n",
      "\n",
      "  using snapshot index = 214, redshift = 1.500\n",
      "\n",
      "\n",
      "# in gizmo_analysis.gizmo_io.Read():\n",
      "* reading header from:  simulations/m12i/m12i_res7100/output/snapdir_214/snapshot_214.0.hdf5\n",
      "  snapshot contains the following number of particles:\n",
      "    dark      (id = 1): 70514272 particles\n",
      "    dark2     (id = 2): 5513331 particles\n",
      "    gas       (id = 0): 68214754 particles\n",
      "    star      (id = 4): 2309196 particles\n",
      "    blackhole (id = 5): 0 particles\n",
      "\n",
      "* reading the following\n",
      "  species: ['star']\n",
      "\n",
      "* reading particles from:\n",
      "    snapshot_214.0.hdf5\n",
      "    snapshot_214.1.hdf5\n",
      "    snapshot_214.2.hdf5\n",
      "    snapshot_214.3.hdf5\n",
      "\n",
      "* reading cosmological parameters from:  simulations/m12i/m12i_res7100/initial_condition/ic_agora_m12i.conf\n",
      "\n",
      "* checking sanity of particle properties\n",
      "\n",
      "\n",
      "# in gizmo_analysis.gizmo_track.ParticleCoordinate():\n",
      "  read 1 host (position, velocity, principal axes) from:  simulations/m12i/m12i_res7100/track/host_coordinates.hdf5\n",
      "  host1 position = (42695.30, 42783.59, 45008.39) [kpc comoving]\n",
      "  host1 velocity = (-72.7, 143.6, 47.4) [km/s]\n",
      "  host1 axis ratios = (0.40, 0.72, 0.56)\n",
      "\n",
      "\n",
      "# in utilities.simulation.Snapshot():\n",
      "* reading:  simulations/m12i/m12i_res7100/snapshot_times.txt\n",
      "\n",
      "  using snapshot index = 214, redshift = 1.500\n",
      "\n",
      "\n",
      "# in gizmo_analysis.gizmo_io.Read():\n",
      "* reading header from:  simulations/m12i/m12i_res7100/output/snapdir_214/snapshot_214.0.hdf5\n",
      "  snapshot contains the following number of particles:\n",
      "    dark      (id = 1): 70514272 particles\n",
      "    dark2     (id = 2): 5513331 particles\n",
      "    gas       (id = 0): 68214754 particles\n",
      "    star      (id = 4): 2309196 particles\n",
      "    blackhole (id = 5): 0 particles\n",
      "\n",
      "* reading the following\n",
      "  species: ['star']\n",
      "\n",
      "* reading particles from:\n",
      "    snapshot_214.0.hdf5\n",
      "    snapshot_214.1.hdf5\n",
      "    snapshot_214.2.hdf5\n",
      "    snapshot_214.3.hdf5\n",
      "\n",
      "* reading cosmological parameters from:  simulations/m12i/m12i_res7100/initial_condition/ic_agora_m12i.conf\n",
      "\n",
      "* checking sanity of particle properties\n",
      "\n",
      "\n",
      "# in gizmo_analysis.gizmo_track.ParticleCoordinate():\n",
      "  read 1 host (position, velocity, principal axes) from:  simulations/m12i/m12i_res7100/track/host_coordinates.hdf5\n",
      "  host1 position = (42695.30, 42783.59, 45008.39) [kpc comoving]\n",
      "  host1 velocity = (-72.7, 143.6, 47.4) [km/s]\n",
      "  host1 axis ratios = (0.40, 0.72, 0.56)\n",
      "\n",
      "\n",
      "# in utilities.simulation.Snapshot():\n",
      "* reading:  simulations/m12i/m12i_res7100/snapshot_times.txt\n",
      "\n",
      "  using snapshot index = 214, redshift = 1.500\n",
      "\n",
      "\n",
      "# in gizmo_analysis.gizmo_io.Read():\n",
      "* reading header from:  simulations/m12i/m12i_res7100/output/snapdir_214/snapshot_214.0.hdf5\n",
      "  snapshot contains the following number of particles:\n",
      "    dark      (id = 1): 70514272 particles\n",
      "    dark2     (id = 2): 5513331 particles\n",
      "    gas       (id = 0): 68214754 particles\n",
      "    star      (id = 4): 2309196 particles\n",
      "    blackhole (id = 5): 0 particles\n",
      "\n",
      "* reading the following\n",
      "  species: ['gas']\n",
      "\n",
      "* reading particles from:\n",
      "    snapshot_214.0.hdf5\n",
      "    snapshot_214.1.hdf5\n",
      "    snapshot_214.2.hdf5\n",
      "    snapshot_214.3.hdf5\n",
      "\n",
      "* reading cosmological parameters from:  simulations/m12i/m12i_res7100/initial_condition/ic_agora_m12i.conf\n",
      "\n",
      "* checking sanity of particle properties\n",
      "\n",
      "\n",
      "# in gizmo_analysis.gizmo_track.ParticleCoordinate():\n",
      "  read 1 host (position, velocity, principal axes) from:  simulations/m12i/m12i_res7100/track/host_coordinates.hdf5\n",
      "  host1 position = (42695.30, 42783.59, 45008.39) [kpc comoving]\n",
      "  host1 velocity = (-72.7, 143.6, 47.4) [km/s]\n",
      "  host1 axis ratios = (0.40, 0.72, 0.56)\n",
      "\n",
      "\n",
      "# in gizmo_analysis.gizmo_star.MassLoss():\n",
      "* generating 2-D spline to compute stellar mass loss from age + metallicity\n",
      "  number of age bins = 20\n",
      "  number of metallicity bins = 25\n",
      "\n",
      "# in utilities.simulation.Snapshot():\n",
      "* reading:  simulations/m12i/m12i_res7100/snapshot_times.txt\n",
      "\n",
      "  using snapshot index = 214, redshift = 1.500\n",
      "\n",
      "\n",
      "# in gizmo_analysis.gizmo_io.Read():\n",
      "* reading header from:  simulations/m12i/m12i_res7100/output/snapdir_214/snapshot_214.0.hdf5\n",
      "  snapshot contains the following number of particles:\n",
      "    dark      (id = 1): 70514272 particles\n",
      "    dark2     (id = 2): 5513331 particles\n",
      "    gas       (id = 0): 68214754 particles\n",
      "    star      (id = 4): 2309196 particles\n",
      "    blackhole (id = 5): 0 particles\n",
      "\n",
      "* reading the following\n",
      "  species: ['star', 'gas']\n",
      "\n",
      "* reading particles from:\n",
      "    snapshot_214.0.hdf5\n",
      "    snapshot_214.1.hdf5\n",
      "    snapshot_214.2.hdf5\n",
      "    snapshot_214.3.hdf5\n",
      "\n",
      "* reading cosmological parameters from:  simulations/m12i/m12i_res7100/initial_condition/ic_agora_m12i.conf\n",
      "\n",
      "* checking sanity of particle properties\n",
      "\n",
      "\n",
      "# in gizmo_analysis.gizmo_track.ParticleCoordinate():\n",
      "  read 1 host (position, velocity, principal axes) from:  simulations/m12i/m12i_res7100/track/host_coordinates.hdf5\n",
      "  host1 position = (42695.30, 42783.59, 45008.39) [kpc comoving]\n",
      "  host1 velocity = (-72.7, 143.6, 47.4) [km/s]\n",
      "  host1 axis ratios = (0.40, 0.72, 0.56)\n",
      "\n",
      "\n",
      "# in gizmo_analysis.gizmo_track.ParticlePointer():\n",
      "* read particle pointers from:  simulations/m12i/m12i_res7100/track/star_gas_pointers_214.hdf5\n",
      "\n",
      "# in utilities.simulation.Snapshot():\n",
      "* reading:  simulations/m12i/m12i_res7100/snapshot_times.txt\n",
      "\n",
      "  using snapshot index = 214, redshift = 1.500\n",
      "\n",
      "\n",
      "# in gizmo_analysis.gizmo_io.Read():\n",
      "* reading header from:  simulations/m12i/m12i_res7100/output/snapdir_214/snapshot_214.0.hdf5\n",
      "  snapshot contains the following number of particles:\n",
      "    dark      (id = 1): 70514272 particles\n",
      "    dark2     (id = 2): 5513331 particles\n",
      "    gas       (id = 0): 68214754 particles\n",
      "    star      (id = 4): 2309196 particles\n",
      "    blackhole (id = 5): 0 particles\n",
      "\n",
      "* reading the following\n",
      "  species: ['star', 'gas']\n",
      "\n",
      "* reading particles from:\n",
      "    snapshot_214.0.hdf5\n",
      "    snapshot_214.1.hdf5\n",
      "    snapshot_214.2.hdf5\n",
      "    snapshot_214.3.hdf5\n",
      "\n",
      "* reading cosmological parameters from:  simulations/m12i/m12i_res7100/initial_condition/ic_agora_m12i.conf\n",
      "\n",
      "* checking sanity of particle properties\n",
      "\n",
      "\n",
      "# in gizmo_analysis.gizmo_track.ParticleCoordinate():\n",
      "  read 1 host (position, velocity, principal axes) from:  simulations/m12i/m12i_res7100/track/host_coordinates.hdf5\n",
      "  host1 position = (42695.30, 42783.59, 45008.39) [kpc comoving]\n",
      "  host1 velocity = (-72.7, 143.6, 47.4) [km/s]\n",
      "  host1 axis ratios = (0.40, 0.72, 0.56)\n",
      "\n",
      "\n",
      "# in gizmo_analysis.gizmo_track.ParticlePointer():\n",
      "* read particle pointers from:  simulations/m12i/m12i_res7100/track/star_gas_pointers_214.hdf5\n",
      "\n",
      "# in utilities.simulation.Snapshot():\n",
      "* reading:  simulations/m12i/m12i_res7100/snapshot_times.txt\n",
      "\n",
      "  using snapshot index = 172, redshift = 2.000\n",
      "\n",
      "\n",
      "# in gizmo_analysis.gizmo_io.Read():\n",
      "* reading header from:  simulations/m12i/m12i_res7100/output/snapdir_172/snapshot_172.0.hdf5\n",
      "  snapshot contains the following number of particles:\n",
      "    dark      (id = 1): 70514272 particles\n",
      "    dark2     (id = 2): 5513331 particles\n",
      "    gas       (id = 0): 69203734 particles\n",
      "    star      (id = 4): 1314410 particles\n",
      "    blackhole (id = 5): 0 particles\n",
      "\n",
      "* reading the following\n",
      "  species: ['star', 'gas']\n",
      "\n",
      "* reading particles from:\n",
      "    snapshot_172.0.hdf5\n",
      "    snapshot_172.1.hdf5\n",
      "    snapshot_172.2.hdf5\n",
      "    snapshot_172.3.hdf5\n",
      "\n",
      "* reading cosmological parameters from:  simulations/m12i/m12i_res7100/initial_condition/ic_agora_m12i.conf\n",
      "\n",
      "* checking sanity of particle properties\n",
      "! warning: gas temperature [min, max] = [4.879, 1.382e9]\n",
      "\n",
      "\n",
      "# in gizmo_analysis.gizmo_track.ParticleCoordinate():\n",
      "  read 1 host (position, velocity, principal axes) from:  simulations/m12i/m12i_res7100/track/host_coordinates.hdf5\n",
      "  host1 position = (42863.59, 42457.60, 44852.49) [kpc comoving]\n",
      "  host1 velocity = (-72.9, 88.0, 48.9) [km/s]\n",
      "  host1 axis ratios = (0.48, 0.93, 0.52)\n",
      "\n",
      "\n",
      "# in gizmo_analysis.gizmo_track.ParticlePointer():\n",
      "* read particle pointers from:  simulations/m12i/m12i_res7100/track/star_gas_pointers_172.hdf5\n",
      "[-71036560 -71036560 -71036560]\n",
      "\n",
      "# in gizmo_analysis.gizmo_track.ParticlePointer():\n",
      "* read particle pointers from:  simulations/m12i/m12i_res7100/track/star_gas_pointers_214.hdf5\n",
      "* read particle pointers from:  simulations/m12i/m12i_res7100/track/star_gas_pointers_172.hdf5\n",
      "\n",
      "# in utilities.simulation.Snapshot():\n",
      "* reading:  simulations/m12i/m12i_res7100/snapshot_times.txt\n",
      "\n",
      "  using snapshot index = 214, redshift = 1.500\n",
      "\n",
      "\n",
      "# in gizmo_analysis.gizmo_io.Read():\n",
      "* reading header from:  simulations/m12i/m12i_res7100/output/snapdir_214/snapshot_214.0.hdf5\n",
      "  snapshot contains the following number of particles:\n",
      "    dark      (id = 1): 70514272 particles\n",
      "    dark2     (id = 2): 5513331 particles\n",
      "    gas       (id = 0): 68214754 particles\n",
      "    star      (id = 4): 2309196 particles\n",
      "    blackhole (id = 5): 0 particles\n",
      "\n",
      "* reading the following\n",
      "  species: ['star', 'gas']\n",
      "\n",
      "* reading particles from:\n",
      "    snapshot_214.0.hdf5\n",
      "    snapshot_214.1.hdf5\n",
      "    snapshot_214.2.hdf5\n",
      "    snapshot_214.3.hdf5\n",
      "\n",
      "* reading cosmological parameters from:  simulations/m12i/m12i_res7100/initial_condition/ic_agora_m12i.conf\n",
      "\n",
      "* checking sanity of particle properties\n",
      "\n",
      "\n",
      "# in gizmo_analysis.gizmo_track.ParticleCoordinate():\n",
      "  read 1 host (position, velocity, principal axes) from:  simulations/m12i/m12i_res7100/track/host_coordinates.hdf5\n",
      "  host1 position = (42695.30, 42783.59, 45008.39) [kpc comoving]\n",
      "  host1 velocity = (-72.7, 143.6, 47.4) [km/s]\n",
      "  host1 axis ratios = (0.40, 0.72, 0.56)\n",
      "\n",
      "\n",
      "# in gizmo_analysis.gizmo_track.ParticlePointer():\n",
      "* read particle pointers from:  simulations/m12i/m12i_res7100/track/star_gas_pointers_214.hdf5\n",
      "\n",
      "# in utilities.simulation.Snapshot():\n",
      "* reading:  simulations/m12i/m12i_res7100/snapshot_times.txt\n",
      "\n",
      "  using snapshot index = 172, redshift = 2.000\n",
      "\n",
      "\n",
      "# in gizmo_analysis.gizmo_io.Read():\n",
      "* reading header from:  simulations/m12i/m12i_res7100/output/snapdir_172/snapshot_172.0.hdf5\n",
      "  snapshot contains the following number of particles:\n",
      "    dark      (id = 1): 70514272 particles\n",
      "    dark2     (id = 2): 5513331 particles\n",
      "    gas       (id = 0): 69203734 particles\n",
      "    star      (id = 4): 1314410 particles\n",
      "    blackhole (id = 5): 0 particles\n",
      "\n",
      "* reading the following\n",
      "  species: ['star', 'gas']\n",
      "\n",
      "* reading particles from:\n",
      "    snapshot_172.0.hdf5\n",
      "    snapshot_172.1.hdf5\n",
      "    snapshot_172.2.hdf5\n",
      "    snapshot_172.3.hdf5\n",
      "\n",
      "* reading cosmological parameters from:  simulations/m12i/m12i_res7100/initial_condition/ic_agora_m12i.conf\n",
      "\n",
      "* checking sanity of particle properties\n",
      "! warning: gas temperature [min, max] = [4.879, 1.382e9]\n",
      "\n",
      "\n",
      "# in gizmo_analysis.gizmo_track.ParticleCoordinate():\n",
      "  read 1 host (position, velocity, principal axes) from:  simulations/m12i/m12i_res7100/track/host_coordinates.hdf5\n",
      "  host1 position = (42863.59, 42457.60, 44852.49) [kpc comoving]\n",
      "  host1 velocity = (-72.9, 88.0, 48.9) [km/s]\n",
      "  host1 axis ratios = (0.48, 0.93, 0.52)\n",
      "\n",
      "\n",
      "# in gizmo_analysis.gizmo_track.ParticlePointer():\n",
      "* read particle pointers from:  simulations/m12i/m12i_res7100/track/star_gas_pointers_172.hdf5\n",
      "['' '' '']\n",
      "\n",
      "# in gizmo_analysis.gizmo_track.ParticlePointerDictionary():\n",
      "! gas cells cannot have star particle progenitors\n",
      "\n",
      "# in utilities.simulation.Snapshot():\n",
      "* reading:  simulations/m12i/m12i_res7100/snapshot_times.txt\n",
      "\n",
      "  using snapshot index = 214, redshift = 1.500\n",
      "\n",
      "\n",
      "# in gizmo_analysis.gizmo_io.Read():\n",
      "* reading header from:  simulations/m12i/m12i_res7100/output/snapdir_214/snapshot_214.0.hdf5\n",
      "  snapshot contains the following number of particles:\n",
      "    dark      (id = 1): 70514272 particles\n",
      "    dark2     (id = 2): 5513331 particles\n",
      "    gas       (id = 0): 68214754 particles\n",
      "    star      (id = 4): 2309196 particles\n",
      "    blackhole (id = 5): 0 particles\n",
      "\n",
      "* reading the following\n",
      "  species: ['star', 'gas']\n",
      "\n",
      "* reading particles from:\n",
      "    snapshot_214.0.hdf5\n",
      "    snapshot_214.1.hdf5\n",
      "    snapshot_214.2.hdf5\n",
      "    snapshot_214.3.hdf5\n",
      "\n",
      "* reading cosmological parameters from:  simulations/m12i/m12i_res7100/initial_condition/ic_agora_m12i.conf\n",
      "\n",
      "* checking sanity of particle properties\n",
      "\n",
      "\n",
      "# in gizmo_analysis.gizmo_track.ParticleCoordinate():\n",
      "  read 1 host (position, velocity, principal axes) from:  simulations/m12i/m12i_res7100/track/host_coordinates.hdf5\n",
      "  host1 position = (42695.30, 42783.59, 45008.39) [kpc comoving]\n",
      "  host1 velocity = (-72.7, 143.6, 47.4) [km/s]\n",
      "  host1 axis ratios = (0.40, 0.72, 0.56)\n",
      "\n",
      "\n",
      "# in gizmo_analysis.gizmo_track.ParticlePointer():\n",
      "* read particle pointers from:  simulations/m12i/m12i_res7100/track/star_gas_pointers_214.hdf5\n",
      "\n",
      "# in utilities.simulation.Snapshot():\n",
      "* reading:  simulations/m12i/m12i_res7100/snapshot_times.txt\n",
      "\n",
      "  using snapshot index = 172, redshift = 2.000\n",
      "\n",
      "\n",
      "# in gizmo_analysis.gizmo_io.Read():\n",
      "* reading header from:  simulations/m12i/m12i_res7100/output/snapdir_172/snapshot_172.0.hdf5\n",
      "  snapshot contains the following number of particles:\n",
      "    dark      (id = 1): 70514272 particles\n",
      "    dark2     (id = 2): 5513331 particles\n",
      "    gas       (id = 0): 69203734 particles\n",
      "    star      (id = 4): 1314410 particles\n",
      "    blackhole (id = 5): 0 particles\n",
      "\n",
      "* reading the following\n",
      "  species: ['star', 'gas']\n",
      "\n",
      "* reading particles from:\n",
      "    snapshot_172.0.hdf5\n",
      "    snapshot_172.1.hdf5\n",
      "    snapshot_172.2.hdf5\n",
      "    snapshot_172.3.hdf5\n",
      "\n",
      "* reading cosmological parameters from:  simulations/m12i/m12i_res7100/initial_condition/ic_agora_m12i.conf\n",
      "\n",
      "* checking sanity of particle properties\n",
      "! warning: gas temperature [min, max] = [4.879, 1.382e9]\n",
      "\n",
      "\n",
      "# in gizmo_analysis.gizmo_track.ParticleCoordinate():\n",
      "  read 1 host (position, velocity, principal axes) from:  simulations/m12i/m12i_res7100/track/host_coordinates.hdf5\n",
      "  host1 position = (42863.59, 42457.60, 44852.49) [kpc comoving]\n",
      "  host1 velocity = (-72.9, 88.0, 48.9) [km/s]\n",
      "  host1 axis ratios = (0.48, 0.93, 0.52)\n",
      "\n",
      "\n",
      "# in gizmo_analysis.gizmo_track.ParticlePointer():\n",
      "* read particle pointers from:  simulations/m12i/m12i_res7100/track/star_gas_pointers_172.hdf5\n",
      "\n",
      "# in gizmo_analysis.gizmo_track.ParticlePointerDictionary():\n",
      "! gas cells cannot have star particle progenitors\n",
      "\n",
      "# in utilities.simulation.Snapshot():\n",
      "* reading:  simulations/m12i/m12i_res7100/snapshot_times.txt\n",
      "\n",
      "  using snapshot index = 600, redshift = 0.000\n",
      "\n",
      "\n",
      "# in gizmo_analysis.gizmo_io.Read():\n",
      "* reading header from:  simulations/m12i/m12i_res7100/output/snapdir_600/snapshot_600.0.hdf5\n",
      "  snapshot contains the following number of particles:\n",
      "    dark      (id = 1): 70514272 particles\n",
      "    dark2     (id = 2): 5513331 particles\n",
      "    gas       (id = 0): 57060074 particles\n",
      "    star      (id = 4): 13976485 particles\n",
      "    blackhole (id = 5): 0 particles\n",
      "\n",
      "* reading the following\n",
      "  species: ['star', 'gas']\n",
      "\n",
      "* reading particles from:\n",
      "    snapshot_600.0.hdf5\n",
      "    snapshot_600.1.hdf5\n",
      "    snapshot_600.2.hdf5\n",
      "    snapshot_600.3.hdf5\n",
      "\n",
      "* reading cosmological parameters from:  simulations/m12i/m12i_res7100/initial_condition/ic_agora_m12i.conf\n",
      "\n",
      "* checking sanity of particle properties\n",
      "\n",
      "\n",
      "# in gizmo_analysis.gizmo_track.ParticleCoordinate():\n",
      "  read 1 host (position, velocity, principal axes) from:  simulations/m12i/m12i_res7100/track/host_coordinates.hdf5\n",
      "  host1 position = (41792.15, 44131.23, 46267.68) [kpc comoving]\n",
      "  host1 velocity = (-52.2, 73.6, 94.7) [km/s]\n",
      "  host1 axis ratios = (0.16, 0.16, 0.99)\n",
      "\n",
      "\n",
      "# in utilities.simulation.Snapshot():\n",
      "* reading:  simulations/m12i/m12i_res7100/snapshot_times.txt\n",
      "\n",
      "  using snapshot index = 600, redshift = 0.000\n",
      "\n",
      "\n",
      "# in gizmo_analysis.gizmo_io.Read():\n",
      "* reading header from:  simulations/m12i/m12i_res7100/output/snapdir_600/snapshot_600.0.hdf5\n",
      "  snapshot contains the following number of particles:\n",
      "    dark      (id = 1): 70514272 particles\n",
      "    dark2     (id = 2): 5513331 particles\n",
      "    gas       (id = 0): 57060074 particles\n",
      "    star      (id = 4): 13976485 particles\n",
      "    blackhole (id = 5): 0 particles\n",
      "\n",
      "* reading the following\n",
      "  species: ['star', 'gas']\n",
      "\n",
      "* reading particles from:\n",
      "    snapshot_600.0.hdf5\n",
      "    snapshot_600.1.hdf5\n",
      "    snapshot_600.2.hdf5\n",
      "    snapshot_600.3.hdf5\n",
      "\n",
      "* reading cosmological parameters from:  simulations/m12i/m12i_res7100/initial_condition/ic_agora_m12i.conf\n",
      "\n",
      "* checking sanity of particle properties\n",
      "\n",
      "\n",
      "# in gizmo_analysis.gizmo_track.ParticleCoordinate():\n",
      "  read 1 host (position, velocity, principal axes) from:  simulations/m12i/m12i_res7100/track/host_coordinates.hdf5\n",
      "  host1 position = (41792.15, 44131.23, 46267.68) [kpc comoving]\n",
      "  host1 velocity = (-52.2, 73.6, 94.7) [km/s]\n",
      "  host1 axis ratios = (0.16, 0.16, 0.99)\n",
      "\n",
      "\n",
      "# in utilities.simulation.Snapshot():\n",
      "* reading:  simulations/m12i/m12i_res7100/snapshot_times.txt\n",
      "\n",
      "  using snapshot index = 214, redshift = 1.500\n",
      "\n",
      "\n",
      "# in gizmo_analysis.gizmo_io.Read():\n",
      "* reading header from:  simulations/m12i/m12i_res7100/output/snapdir_214/snapshot_214.0.hdf5\n",
      "  snapshot contains the following number of particles:\n",
      "    dark      (id = 1): 70514272 particles\n",
      "    dark2     (id = 2): 5513331 particles\n",
      "    gas       (id = 0): 68214754 particles\n",
      "    star      (id = 4): 2309196 particles\n",
      "    blackhole (id = 5): 0 particles\n",
      "\n",
      "* reading the following\n",
      "  species: ['star', 'gas']\n",
      "\n",
      "* reading particles from:\n",
      "    snapshot_214.0.hdf5\n",
      "    snapshot_214.1.hdf5\n",
      "    snapshot_214.2.hdf5\n",
      "    snapshot_214.3.hdf5\n",
      "\n",
      "* reading cosmological parameters from:  simulations/m12i/m12i_res7100/initial_condition/ic_agora_m12i.conf\n",
      "\n",
      "* checking sanity of particle properties\n",
      "\n",
      "\n",
      "# in gizmo_analysis.gizmo_track.ParticleCoordinate():\n",
      "  read 1 host (position, velocity, principal axes) from:  simulations/m12i/m12i_res7100/track/host_coordinates.hdf5\n",
      "  host1 position = (42695.30, 42783.59, 45008.39) [kpc comoving]\n",
      "  host1 velocity = (-72.7, 143.6, 47.4) [km/s]\n",
      "  host1 axis ratios = (0.40, 0.72, 0.56)\n",
      "\n",
      "\n",
      "# in gizmo_analysis.gizmo_track.ParticlePointer():\n",
      "* read particle pointers from:  simulations/m12i/m12i_res7100/track/star_gas_pointers_214.hdf5\n",
      "\n",
      "# in utilities.simulation.Snapshot():\n",
      "* reading:  simulations/m12i/m12i_res7100/snapshot_times.txt\n",
      "\n",
      "  using snapshot index = 172, redshift = 2.000\n",
      "\n",
      "\n",
      "# in gizmo_analysis.gizmo_io.Read():\n",
      "* reading header from:  simulations/m12i/m12i_res7100/output/snapdir_172/snapshot_172.0.hdf5\n",
      "  snapshot contains the following number of particles:\n",
      "    dark      (id = 1): 70514272 particles\n",
      "    dark2     (id = 2): 5513331 particles\n",
      "    gas       (id = 0): 69203734 particles\n",
      "    star      (id = 4): 1314410 particles\n",
      "    blackhole (id = 5): 0 particles\n",
      "\n",
      "* reading the following\n",
      "  species: ['star', 'gas']\n",
      "\n",
      "* reading particles from:\n",
      "    snapshot_172.0.hdf5\n",
      "    snapshot_172.1.hdf5\n",
      "    snapshot_172.2.hdf5\n",
      "    snapshot_172.3.hdf5\n",
      "\n",
      "* reading cosmological parameters from:  simulations/m12i/m12i_res7100/initial_condition/ic_agora_m12i.conf\n",
      "\n",
      "* checking sanity of particle properties\n",
      "! warning: gas temperature [min, max] = [4.879, 1.382e9]\n",
      "\n",
      "\n",
      "# in gizmo_analysis.gizmo_track.ParticleCoordinate():\n",
      "  read 1 host (position, velocity, principal axes) from:  simulations/m12i/m12i_res7100/track/host_coordinates.hdf5\n",
      "  host1 position = (42863.59, 42457.60, 44852.49) [kpc comoving]\n",
      "  host1 velocity = (-72.9, 88.0, 48.9) [km/s]\n",
      "  host1 axis ratios = (0.48, 0.93, 0.52)\n",
      "\n",
      "\n",
      "# in gizmo_analysis.gizmo_track.ParticlePointer():\n",
      "* read particle pointers from:  simulations/m12i/m12i_res7100/track/star_gas_pointers_172.hdf5\n"
     ]
    }
   ],
   "source": [
    "halt = gc_utils.get_halo_tree(sim, sim_dir, assign_hosts_rotation=False)"
   ]
  },
  {
   "cell_type": "code",
   "execution_count": 5,
   "id": "687911ad",
   "metadata": {},
   "outputs": [],
   "source": [
    "def remove_duplicates_with_report(arr):\n",
    "    arr = np.array(arr)  # Convert the list to a numpy array\n",
    "    unique_elements, counts = np.unique(arr, return_counts=True)  # Get unique elements and their counts\n",
    "    duplicates = unique_elements[counts > 1]  # Duplicates are those that appear more than once\n",
    "    unique_list = unique_elements.tolist()  # Convert unique elements back to a list\n",
    "\n",
    "    return unique_list, duplicates.tolist()  # Return unique and duplicate lists"
   ]
  },
  {
   "cell_type": "code",
   "execution_count": 8,
   "id": "cf36f61e",
   "metadata": {},
   "outputs": [],
   "source": [
    "# id_idx_map, gc_id_snap, ptype_snap = gc_utils.create_gc_part_idx_dict(part, proc_data, it, snapshot)\n",
    "\n",
    "it = 1\n",
    "it_id = gc_utils.iteration_name(it)\n",
    "snap_id = gc_utils.snapshot_name(snapshot)\n",
    "\n",
    "gc_id_snap = proc_data[it_id][\"snapshots\"][snap_id][\"gc_id\"][()]\n",
    "\n",
    "ptype_byte_snap = proc_data[it_id][\"snapshots\"][snap_id][\"ptype\"]\n",
    "ptype_snap = [ptype.decode(\"utf-8\") for ptype in ptype_byte_snap]\n",
    "\n",
    "# Step 1: group GCs by particle type\n",
    "gc_by_ptype = {}\n",
    "gc_by_ptype[\"star\"] = []\n",
    "gc_by_ptype[\"dark\"] = []\n",
    "\n",
    "for gc, ptype in zip(gc_id_snap, ptype_snap):\n",
    "    gc_by_ptype[ptype].append(gc)\n",
    "\n",
    "# Step 2: for each ptype, build a small dict: gc_id → index\n",
    "id_idx_map = {}\n",
    "\n",
    "for ptype, gc_ids in gc_by_ptype.items():\n",
    "    ids = part[ptype][\"id\"]  # potentially millions of entries\n",
    "    # gc_ids = np.array(gc_ids)  # small subset\n",
    "\n",
    "    # Check which of these are in the main list\n",
    "    mask = np.isin(ids, gc_ids)\n",
    "    idxs = np.nonzero(mask)[0]\n",
    "    found_ids = ids[idxs]\n",
    "\n",
    "    # Build small, efficient lookup: GC ID → array index\n",
    "    id_idx_map[ptype] = dict(zip(found_ids, idxs))\n",
    "\n",
    "    # concerned abour duplciate star ids\n",
    "    if ptype == \"star\":\n",
    "        _, duplicates_ids = remove_duplicates_with_report(found_ids)"
   ]
  },
  {
   "cell_type": "code",
   "execution_count": 9,
   "id": "12c4d372",
   "metadata": {},
   "outputs": [
    {
     "data": {
      "text/plain": [
       "[42251338, 48721435]"
      ]
     },
     "execution_count": 9,
     "metadata": {},
     "output_type": "execute_result"
    }
   ],
   "source": [
    "duplicates_ids"
   ]
  },
  {
   "cell_type": "code",
   "execution_count": 45,
   "id": "a82a83a9",
   "metadata": {},
   "outputs": [],
   "source": [
    "i = 0\n",
    "main_halo_tid = 25236877"
   ]
  },
  {
   "cell_type": "code",
   "execution_count": 58,
   "id": "042d5f0b",
   "metadata": {},
   "outputs": [
    {
     "data": {
      "text/plain": [
       "210"
      ]
     },
     "execution_count": 58,
     "metadata": {},
     "output_type": "execute_result"
    }
   ],
   "source": [
    "ana_mask = proc_data[it_id][\"source\"][\"analyse_flag\"][()] == 1\n",
    "gc_mask = proc_data[it_id][\"source\"][\"gc_id\"][()] == duplicates_ids[i]\n",
    "snap_form = proc_data[it_id][\"source\"][\"snap_zform\"][ana_mask & gc_mask][0]\n",
    "snap_form"
   ]
  },
  {
   "cell_type": "code",
   "execution_count": 61,
   "id": "ec2dd125",
   "metadata": {},
   "outputs": [
    {
     "data": {
      "text/plain": [
       "214"
      ]
     },
     "execution_count": 61,
     "metadata": {},
     "output_type": "execute_result"
    }
   ],
   "source": [
    "# get closest public snapshot (previously calculated)\n",
    "pubsnap_form = proc_data[it_id][\"source\"][\"pubsnap_zform\"][ana_mask & gc_mask][0]\n",
    "pubsnap_form"
   ]
  },
  {
   "cell_type": "code",
   "execution_count": 62,
   "id": "cb7021e9",
   "metadata": {},
   "outputs": [
    {
     "data": {
      "text/plain": [
       "0"
      ]
     },
     "execution_count": 62,
     "metadata": {},
     "output_type": "execute_result"
    }
   ],
   "source": [
    "group_id = np.abs(proc_data[it_id][\"source\"][\"group_id\"][ana_mask & gc_mask][0])\n",
    "group_id"
   ]
  },
  {
   "cell_type": "code",
   "execution_count": 63,
   "id": "20a95f26",
   "metadata": {},
   "outputs": [
    {
     "data": {
      "text/plain": [
       "6279613"
      ]
     },
     "execution_count": 63,
     "metadata": {},
     "output_type": "execute_result"
    }
   ],
   "source": [
    "if group_id == 0:\n",
    "    halo_tid = main_halo_tid\n",
    "else:\n",
    "    halo_tid = group_id\n",
    "\n",
    "halo_tid_snap = gc_utils.get_halo_prog_at_snap(halt, halo_tid, pubsnap_form)\n",
    "halo_tid_snap"
   ]
  },
  {
   "cell_type": "code",
   "execution_count": 64,
   "id": "2bc30946",
   "metadata": {},
   "outputs": [
    {
     "data": {
      "text/plain": [
       "214"
      ]
     },
     "execution_count": 64,
     "metadata": {},
     "output_type": "execute_result"
    }
   ],
   "source": [
    "halo_idx = np.where(halt[\"tid\"] == halo_tid_snap)[0][0]\n",
    "snapcheck = halt[\"snapshot\"][halo_idx]\n",
    "snapcheck"
   ]
  },
  {
   "cell_type": "code",
   "execution_count": 65,
   "id": "74a3f2e6",
   "metadata": {},
   "outputs": [
    {
     "data": {
      "text/plain": [
       "array([42694.8  , 42784.387, 45005.57 ], dtype=float32)"
      ]
     },
     "execution_count": 65,
     "metadata": {},
     "output_type": "execute_result"
    }
   ],
   "source": [
    "halo_pos = halt[\"position\"][halo_idx]\n",
    "halo_pos"
   ]
  },
  {
   "cell_type": "code",
   "execution_count": 73,
   "id": "c9872514",
   "metadata": {},
   "outputs": [],
   "source": [
    "part_form = gizmo.io.Read.read_snapshots([\"star\"], \"index\", pubsnap_form, fire_dir)"
   ]
  },
  {
   "cell_type": "code",
   "execution_count": 145,
   "id": "8e616d82",
   "metadata": {},
   "outputs": [
    {
     "data": {
      "text/plain": [
       "array([ 5, 13, 14])"
      ]
     },
     "execution_count": 145,
     "metadata": {},
     "output_type": "execute_result"
    }
   ],
   "source": [
    "part_idxs = np.where(part[\"star\"][\"id\"] == duplicates_ids[i])[0]\n",
    "part_snapform = part[\"star\"].prop(\"form.snapshot\", part_idxs)\n",
    "\n",
    "idx = np.where(part_snapform == snap_form)[0]\n",
    "idx"
   ]
  },
  {
   "cell_type": "code",
   "execution_count": 272,
   "id": "1cae9f30",
   "metadata": {},
   "outputs": [
    {
     "data": {
      "text/plain": [
       "array([209, 207, 214, 205, 212, 210, 211, 214, 212, 209, 205, 209, 214,\n",
       "       210, 210, 212, 211, 205, 207], dtype=int32)"
      ]
     },
     "execution_count": 272,
     "metadata": {},
     "output_type": "execute_result"
    }
   ],
   "source": [
    "part_form_idxs = np.where(part_form[\"star\"][\"id\"] == duplicates_ids[i])[0]\n",
    "part_snapform = part_form[\"star\"].prop(\"form.snapshot\", part_idxs)\n",
    "part_snapform"
   ]
  },
  {
   "cell_type": "code",
   "execution_count": 276,
   "id": "5630aa48",
   "metadata": {},
   "outputs": [
    {
     "data": {
      "text/plain": [
       "array([ 524234, 1450863, 1476832])"
      ]
     },
     "execution_count": 276,
     "metadata": {},
     "output_type": "execute_result"
    }
   ],
   "source": [
    "idxs = np.where(part_snapform == snap_form)[0]\n",
    "part_interest_idxs = part_form_idxs[idxs]\n",
    "part_interest_idxs"
   ]
  },
  {
   "cell_type": "code",
   "execution_count": 274,
   "id": "b563b663",
   "metadata": {},
   "outputs": [
    {
     "data": {
      "text/plain": [
       "array([[42695.99932255, 42785.27086674, 45008.4481108 ],\n",
       "       [42697.15656516, 42784.03937121, 45008.1257833 ],\n",
       "       [42690.09579992, 42784.40084581, 45027.30340428]])"
      ]
     },
     "execution_count": 274,
     "metadata": {},
     "output_type": "execute_result"
    }
   ],
   "source": [
    "part_form[\"star\"][\"position\"][part_interest_idxs]"
   ]
  },
  {
   "cell_type": "code",
   "execution_count": 275,
   "id": "0e5e8a17",
   "metadata": {},
   "outputs": [
    {
     "data": {
      "text/plain": [
       "array([1.29614456, 1.39718569, 8.89462153])"
      ]
     },
     "execution_count": 275,
     "metadata": {},
     "output_type": "execute_result"
    }
   ],
   "source": [
    "ut.coordinate.get_distances(\n",
    "    part_form[\"star\"][\"position\"][part_interest_idxs],\n",
    "    halo_pos,\n",
    "    part_form.info[\"box.length\"],\n",
    "    part_form.snapshot[\"scalefactor\"],\n",
    "    total_distance=True,\n",
    ")  # [kpc physical]"
   ]
  },
  {
   "cell_type": "code",
   "execution_count": 151,
   "id": "0cf8916b",
   "metadata": {},
   "outputs": [
    {
     "data": {
      "text/plain": [
       "1.990293010174199"
      ]
     },
     "execution_count": 151,
     "metadata": {},
     "output_type": "execute_result"
    }
   ],
   "source": [
    "j = 1\n",
    "x = part_form[\"star\"][\"position\"][part_interest_idxs][j][0] - halo_pos[0]\n",
    "y = part_form[\"star\"][\"position\"][part_interest_idxs][j][1] - halo_pos[1]\n",
    "z = part_form[\"star\"][\"position\"][part_interest_idxs][j][2] - halo_pos[2]\n",
    "\n",
    "r2_s = (x**2 + y**2 + z**2) * (part_form.snapshot[\"scalefactor\"] / part_form.info[\"hubble\"]) ** 2\n",
    "r = np.sqrt(r2_s)\n",
    "r"
   ]
  },
  {
   "cell_type": "code",
   "execution_count": 152,
   "id": "7b0bba1e",
   "metadata": {},
   "outputs": [
    {
     "data": {
      "text/plain": [
       "array([0.39315334, 0.39361042, 0.3927175 ], dtype=float32)"
      ]
     },
     "execution_count": 152,
     "metadata": {},
     "output_type": "execute_result"
    }
   ],
   "source": [
    "part_form[\"star\"][\"form.scalefactor\"][part_interest_idxs]"
   ]
  },
  {
   "cell_type": "code",
   "execution_count": 163,
   "id": "4564a927",
   "metadata": {},
   "outputs": [
    {
     "data": {
      "text/plain": [
       "array([ 8, 25,  1], dtype=uint32)"
      ]
     },
     "execution_count": 163,
     "metadata": {},
     "output_type": "execute_result"
    }
   ],
   "source": [
    "part_form[\"star\"][\"id.generation\"][part_interest_idxs]"
   ]
  },
  {
   "cell_type": "code",
   "execution_count": 130,
   "id": "5d659679",
   "metadata": {},
   "outputs": [],
   "source": [
    "gas_part = gizmo.io.Read.read_snapshots([\"gas\"], \"index\", pubsnap_form, fire_dir)"
   ]
  },
  {
   "cell_type": "code",
   "execution_count": 137,
   "id": "096e7130",
   "metadata": {},
   "outputs": [
    {
     "ename": "TypeError",
     "evalue": "tuple indices must be integers or slices, not str",
     "output_type": "error",
     "traceback": [
      "\u001b[0;31m---------------------------------------------------------------------------\u001b[0m",
      "\u001b[0;31mTypeError\u001b[0m                                 Traceback (most recent call last)",
      "Cell \u001b[0;32mIn[137], line 1\u001b[0m\n\u001b[0;32m----> 1\u001b[0m gas_part \u001b[38;5;241m=\u001b[39m np\u001b[38;5;241m.\u001b[39mwhere(\u001b[43mgas_part\u001b[49m\u001b[43m[\u001b[49m\u001b[38;5;124;43m\"\u001b[39;49m\u001b[38;5;124;43mgas\u001b[39;49m\u001b[38;5;124;43m\"\u001b[39;49m\u001b[43m]\u001b[49m[\u001b[38;5;124m\"\u001b[39m\u001b[38;5;124mid\u001b[39m\u001b[38;5;124m\"\u001b[39m] \u001b[38;5;241m==\u001b[39m duplicates_ids[i])\n\u001b[1;32m      2\u001b[0m gas_part\n",
      "\u001b[0;31mTypeError\u001b[0m: tuple indices must be integers or slices, not str"
     ]
    }
   ],
   "source": [
    "gas_part = np.where(gas_part[\"gas\"][\"id\"] == duplicates_ids[i])\n",
    "gas_part"
   ]
  },
  {
   "cell_type": "code",
   "execution_count": 165,
   "id": "0af45c3b",
   "metadata": {},
   "outputs": [],
   "source": [
    "part_point = gizmo.io.Read.read_snapshots(\n",
    "    [\"star\", \"gas\"], \"index\", pubsnap_form, fire_dir, assign_pointers=True\n",
    ")"
   ]
  },
  {
   "cell_type": "code",
   "execution_count": 169,
   "id": "56b19107",
   "metadata": {},
   "outputs": [
    {
     "data": {
      "text/plain": [
       "172"
      ]
     },
     "execution_count": 169,
     "metadata": {},
     "output_type": "execute_result"
    }
   ],
   "source": [
    "# get public snapshot at snapshot before formation\n",
    "\n",
    "public_snapshot_file = sim_dir + \"snapshot_times_public.txt\"\n",
    "pub_data = pd.read_table(public_snapshot_file, comment=\"#\", header=None, sep=r\"\\s+\")\n",
    "pub_data.columns = [\n",
    "    \"index\",\n",
    "    \"scale_factor\",\n",
    "    \"redshift\",\n",
    "    \"time_Gyr\",\n",
    "    \"lookback_time_Gyr\",\n",
    "    \"time_width_Myr\",\n",
    "]\n",
    "pub_snaps = np.array(pub_data[\"index\"], dtype=int)\n",
    "\n",
    "preform_snap_idx = np.where(pub_snaps == pubsnap_form)[0][0] - 1\n",
    "preform_snap = pub_snaps[preform_snap_idx]\n",
    "preform_snap"
   ]
  },
  {
   "cell_type": "code",
   "execution_count": 170,
   "id": "6eb5de73",
   "metadata": {},
   "outputs": [],
   "source": [
    "part_point_pre = gizmo.io.Read.read_snapshots(\n",
    "    [\"star\", \"gas\"], \"index\", preform_snap, fire_dir, assign_pointers=True\n",
    ")"
   ]
  },
  {
   "cell_type": "code",
   "execution_count": 172,
   "id": "b9cac600",
   "metadata": {},
   "outputs": [],
   "source": [
    "part_point_pre.Pointer.add_intermediate_pointers(part_point.Pointer)"
   ]
  },
  {
   "cell_type": "code",
   "execution_count": 179,
   "id": "b55be592",
   "metadata": {},
   "outputs": [],
   "source": [
    "\"\"\"Parameters\n",
    "    ----------\n",
    "    species_name_from : str\n",
    "        name of species at the reference (later, z0) snapshot\n",
    "    species_names_to : str or list\n",
    "        name[s] of species to get pointers to at the (earlier, z) snapshot\n",
    "    part_indices : arr\n",
    "        indices of particles at the reference (later, z0) snapshot\n",
    "    forward : bool\n",
    "        whether to get pointers from the (earlier, z) snapshot to the reference (later, z0)\n",
    "        snapshot, that is, tracking forward in time default (forward=False) is tracking\n",
    "        backwards in time\n",
    "    intermediate_snapshot : bool\n",
    "        whether to get pointers between z and an intermediate snapshot (at z > 0)\n",
    "        default (intermediate_snapshot=False) is to get pointers to/from z0\n",
    "    return_single_array : bool\n",
    "        if tracking single species at both snapshots, whether to return single array of\n",
    "        pointer indices (instead of dictionary of pointers that includes species names)\n",
    "\"\"\"\n",
    "\n",
    "pointers = part_point_pre.Pointer.get_pointers(\n",
    "    species_name_from=\"star\", species_names_to=[\"gas\", \"star\"], intermediate_snapshot=True\n",
    ")"
   ]
  },
  {
   "cell_type": "code",
   "execution_count": 183,
   "id": "4a417441",
   "metadata": {},
   "outputs": [
    {
     "data": {
      "text/plain": [
       "array([-71036560, -71036560, -71036560], dtype=int32)"
      ]
     },
     "execution_count": 183,
     "metadata": {},
     "output_type": "execute_result"
    }
   ],
   "source": [
    "star_indices_at_pub_form = part_interest_idxs\n",
    "# star_indices_at_pub_form = np.array([0])\n",
    "pointers[\"species\"][star_indices_at_pub_form]\n",
    "pointers[\"index\"][star_indices_at_pub_form]"
   ]
  },
  {
   "cell_type": "code",
   "execution_count": 188,
   "id": "67bf9813",
   "metadata": {},
   "outputs": [],
   "source": [
    "# If you just want to track a single species (star -> star or gas -> gas) between 2 snapshots,\n",
    "# read_pointers_between_snapshots() makes it easy to get the pointer indices between any 2 snapshots\n",
    "\n",
    "ParticlePointer = gizmo.track.ParticlePointerClass(simulation_directory=fire_dir)\n",
    "\n",
    "# tracking forward in time\n",
    "pointers_pre_to_post = ParticlePointer.read_pointers_between_snapshots(\n",
    "    snapshot_index_from=preform_snap, snapshot_index_to=pubsnap_form, species_name=\"star\"\n",
    ")"
   ]
  },
  {
   "cell_type": "code",
   "execution_count": 246,
   "id": "dbd1a9ec",
   "metadata": {},
   "outputs": [],
   "source": [
    "part_z0 = gizmo.io.Read.read_snapshots([\"star\", \"gas\"], \"index\", 600, fire_dir)\n",
    "\n",
    "part_form = gizmo.io.Read.read_snapshots(\n",
    "    [\"star\", \"gas\"], \"index\", pubsnap_form, fire_dir, assign_pointers=True\n",
    ")\n",
    "part_preform = gizmo.io.Read.read_snapshots(\n",
    "    [\"star\", \"gas\"], \"index\", preform_snap, fire_dir, assign_pointers=True\n",
    ")"
   ]
  },
  {
   "cell_type": "code",
   "execution_count": 267,
   "id": "995fb931",
   "metadata": {},
   "outputs": [
    {
     "data": {
      "text/plain": [
       "(array([0, 1]),\n",
       " array([4357964, 2985361], dtype=int32),\n",
       " array(['star', 'star'], dtype='<U4'))"
      ]
     },
     "execution_count": 267,
     "metadata": {},
     "output_type": "execute_result"
    }
   ],
   "source": [
    "pointers = part_form.Pointer.get_pointers(\n",
    "    species_name_from=\"star\", species_names_to=[\"star\", \"gas\"], forward=True\n",
    ")\n",
    "\n",
    "# indices_at_form = part_interest_idxs\n",
    "indices_at_form = np.array([0, 1])\n",
    "indices_at_z0 = pointers[\"index\"][indices_at_form]\n",
    "species_at_z0 = pointers[\"species\"][indices_at_form]\n",
    "indices_at_form, indices_at_z0, species_at_z0"
   ]
  },
  {
   "cell_type": "code",
   "execution_count": 271,
   "id": "a97c0f1b",
   "metadata": {},
   "outputs": [
    {
     "data": {
      "text/plain": [
       "array([39840433, 38206582], dtype=uint32)"
      ]
     },
     "execution_count": 271,
     "metadata": {},
     "output_type": "execute_result"
    }
   ],
   "source": [
    "part_form[\"star\"][\"id\"][indices_at_form]"
   ]
  },
  {
   "cell_type": "code",
   "execution_count": 270,
   "id": "c2a62112",
   "metadata": {},
   "outputs": [
    {
     "data": {
      "text/plain": [
       "array([39840433, 38206582], dtype=uint32)"
      ]
     },
     "execution_count": 270,
     "metadata": {},
     "output_type": "execute_result"
    }
   ],
   "source": [
    "part_z0[\"star\"][\"id\"][indices_at_z0]"
   ]
  },
  {
   "cell_type": "code",
   "execution_count": null,
   "id": "8c8e895b",
   "metadata": {},
   "outputs": [],
   "source": [
    "# part_2.Pointer.add_intermediate_pointers(part_1.Pointer)"
   ]
  },
  {
   "cell_type": "code",
   "execution_count": null,
   "id": "294c0cde",
   "metadata": {},
   "outputs": [],
   "source": [
    "# pointers = part_2.Pointer.get_pointers(\n",
    "#     species_name_from=\"star\", species_names_to=\"gas\", intermediate_snapshot=True\n",
    "# )"
   ]
  },
  {
   "cell_type": "code",
   "execution_count": null,
   "id": "cd1d27c2",
   "metadata": {},
   "outputs": [
    {
     "data": {
      "text/plain": [
       "array([-69093569,  39890936, -69093569, ..., -69093569, -69093569,\n",
       "       -69093569], dtype=int32)"
      ]
     },
     "execution_count": 244,
     "metadata": {},
     "output_type": "execute_result"
    }
   ],
   "source": [
    "# star_indices_at_1 = part_interest_idxs\n",
    "\n",
    "# # read from 2 to 1\n",
    "# pointers"
   ]
  },
  {
   "cell_type": "code",
   "execution_count": 207,
   "id": "a23e5632",
   "metadata": {},
   "outputs": [
    {
     "data": {
      "text/plain": [
       "array([      1,       4,       8, ..., 2309160, 2309166, 2309169])"
      ]
     },
     "execution_count": 207,
     "metadata": {},
     "output_type": "execute_result"
    }
   ],
   "source": [
    "np.where(pointers[\"species\"] == \"gas\")[0]"
   ]
  }
 ],
 "metadata": {
  "kernelspec": {
   "display_name": ".venv",
   "language": "python",
   "name": "python3"
  },
  "language_info": {
   "codemirror_mode": {
    "name": "ipython",
    "version": 3
   },
   "file_extension": ".py",
   "mimetype": "text/x-python",
   "name": "python",
   "nbconvert_exporter": "python",
   "pygments_lexer": "ipython3",
   "version": "3.11.3"
  }
 },
 "nbformat": 4,
 "nbformat_minor": 5
}
