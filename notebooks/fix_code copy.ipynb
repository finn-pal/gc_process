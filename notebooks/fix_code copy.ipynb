{
 "cells": [
  {
   "cell_type": "code",
   "execution_count": 13,
   "metadata": {},
   "outputs": [],
   "source": [
    "import h5py\n",
    "import numpy as np\n",
    "import pandas as pd\n",
    "from astropy.io import ascii\n",
    "from gc_utils import iteration_name, particle_type, snapshot_name  # type: ignore"
   ]
  },
  {
   "cell_type": "code",
   "execution_count": 14,
   "metadata": {},
   "outputs": [],
   "source": [
    "simulation = \"m12i\"\n",
    "offset = 4\n",
    "it = 1\n",
    "# snapshot = 356\n",
    "snapshot = 67\n",
    "sim_dir = \"/Users/z5114326/Documents/simulations/\"\n",
    "data_dir = \"/Users/z5114326/Documents/GitHub/gc_process_katana/data/\"\n",
    "raw_dir = data_dir + \"results/\" + simulation + \"/raw/it_%d/\" % it"
   ]
  },
  {
   "cell_type": "code",
   "execution_count": 15,
   "metadata": {},
   "outputs": [],
   "source": [
    "it_id = iteration_name(it)"
   ]
  },
  {
   "cell_type": "code",
   "execution_count": 16,
   "metadata": {},
   "outputs": [],
   "source": [
    "proc_file = sim_dir + simulation + \"/\" + simulation + \"_processed.hdf5\"\n",
    "proc_data = h5py.File(proc_file, \"a\")  # open processed data file"
   ]
  },
  {
   "cell_type": "code",
   "execution_count": 17,
   "metadata": {},
   "outputs": [],
   "source": [
    "snap_mass_file = raw_dir + \"allcat_s-%d_p2-7_p3-1_k-1.5_logm_snap%d.txt\" % (it, snapshot - offset)\n",
    "gc_id_file = raw_dir + \"allcat_s-%d_p2-7_p3-1_gcid.txt\" % it\n",
    "\n",
    "gcid_df = pd.read_csv(gc_id_file, sep=\" \").drop([\"ID\"], axis=1)\n",
    "gcid_df.columns = [\"GC_ID\", \"quality\"]\n",
    "\n",
    "mass_snap_df = pd.read_csv(snap_mass_file, header=None)\n",
    "mass_snap_df.columns = [\"mass\"]\n",
    "\n",
    "comb_df = pd.concat([gcid_df, mass_snap_df], axis=1)"
   ]
  },
  {
   "cell_type": "code",
   "execution_count": 18,
   "metadata": {},
   "outputs": [],
   "source": [
    "filt_comb_df = comb_df[comb_df[\"mass\"] != -1]"
   ]
  },
  {
   "cell_type": "code",
   "execution_count": 19,
   "metadata": {},
   "outputs": [],
   "source": [
    "gc_id_snap = [gc_id for gc_id in filt_comb_df[\"GC_ID\"]]\n",
    "mass_snap = [mass for mass in filt_comb_df[\"mass\"]]\n",
    "ptype_snap = [particle_type(quality) for quality in filt_comb_df[\"quality\"]]\n",
    "indexes = filt_comb_df.index"
   ]
  },
  {
   "cell_type": "code",
   "execution_count": 20,
   "metadata": {},
   "outputs": [],
   "source": [
    "gc_id_lst = proc_data[it_id][\"source\"][\"gc_id\"]\n",
    "analyse_flag_lst = proc_data[it_id][\"source\"][\"analyse_flag\"]\n",
    "group_id_lst = proc_data[it_id][\"source\"][\"group_id\"]\n",
    "\n",
    "snap_form_lst = proc_data[it_id][\"source\"][\"snap_zform\"]\n",
    "snap_last_lst = proc_data[it_id][\"source\"][\"last_snap\"]\n",
    "snap_accr_lst = proc_data[it_id][\"source\"][\"snap_acc\"]\n",
    "\n",
    "t_dis_lst = proc_data[it_id][\"source\"][\"t_dis\"]\n",
    "\n",
    "ptypes_byte = proc_data[it_id][\"source\"][\"ptype\"]\n",
    "ptypes = [ptype.decode(\"utf-8\") for ptype in ptypes_byte]"
   ]
  },
  {
   "cell_type": "code",
   "execution_count": 21,
   "metadata": {},
   "outputs": [],
   "source": [
    "snap_accr_snap = []\n",
    "group_id_snap = []\n",
    "gc_test_set = []\n",
    "analyse_flag_snap = []\n",
    "\n",
    "for idx in indexes:\n",
    "    analyse_flag = analyse_flag_lst[idx]\n",
    "    snap_accr = snap_accr_lst[idx]\n",
    "    group_id = group_id_lst[idx]\n",
    "    gc = gc_id_lst[idx]\n",
    "\n",
    "    analyse_flag_snap.append(analyse_flag)\n",
    "    snap_accr_snap.append(snap_accr)\n",
    "    group_id_snap.append(group_id)\n",
    "    gc_test_set.append(gc)"
   ]
  },
  {
   "cell_type": "code",
   "execution_count": 22,
   "metadata": {},
   "outputs": [],
   "source": [
    "for gc in gc_id_snap:\n",
    "    if gc not in gc_test_set:\n",
    "        print(gc)"
   ]
  },
  {
   "cell_type": "code",
   "execution_count": 23,
   "metadata": {},
   "outputs": [],
   "source": [
    "for gc in gc_test_set:\n",
    "    if gc not in gc_id_snap:\n",
    "        print(gc)"
   ]
  },
  {
   "cell_type": "code",
   "execution_count": null,
   "metadata": {},
   "outputs": [],
   "source": [
    "proc_data.close()"
   ]
  }
 ],
 "metadata": {
  "kernelspec": {
   "display_name": ".venv",
   "language": "python",
   "name": "python3"
  },
  "language_info": {
   "codemirror_mode": {
    "name": "ipython",
    "version": 3
   },
   "file_extension": ".py",
   "mimetype": "text/x-python",
   "name": "python",
   "nbconvert_exporter": "python",
   "pygments_lexer": "ipython3",
   "version": "3.11.3"
  }
 },
 "nbformat": 4,
 "nbformat_minor": 2
}
