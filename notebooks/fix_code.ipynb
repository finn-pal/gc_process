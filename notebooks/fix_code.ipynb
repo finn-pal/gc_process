{
 "cells": [
  {
   "cell_type": "code",
   "execution_count": 389,
   "metadata": {},
   "outputs": [],
   "source": [
    "import h5py\n",
    "import numpy as np\n",
    "import pandas as pd\n",
    "from astropy.io import ascii\n",
    "from gc_utils import iteration_name, snapshot_name  # type: ignore"
   ]
  },
  {
   "cell_type": "code",
   "execution_count": 390,
   "metadata": {},
   "outputs": [],
   "source": [
    "simulation = \"m12i\"\n",
    "offset = 4\n",
    "it = 1\n",
    "# snapshot = 356\n",
    "snapshot = 592\n",
    "sim_dir = \"/Users/z5114326/Documents/simulations/\"\n",
    "data_dir = \"/Users/z5114326/Documents/GitHub/gc_process_katana/data/\""
   ]
  },
  {
   "cell_type": "code",
   "execution_count": 391,
   "metadata": {},
   "outputs": [],
   "source": [
    "proc_file = sim_dir + simulation + \"/\" + simulation + \"_processed.hdf5\"\n",
    "proc_data = h5py.File(proc_file, \"a\")  # open processed data file"
   ]
  },
  {
   "cell_type": "code",
   "execution_count": 392,
   "metadata": {},
   "outputs": [],
   "source": [
    "raw_dir = data_dir + \"results/\" + simulation + \"/raw/it_%d/\" % it\n",
    "it_id = iteration_name(it)\n",
    "\n",
    "gc_id = proc_data[it_id][\"source\"][\"gc_id\"]\n",
    "analyse_flag = proc_data[it_id][\"source\"][\"analyse_flag\"]\n",
    "group_id = proc_data[it_id][\"source\"][\"group_id\"]\n",
    "\n",
    "snap_zform = proc_data[it_id][\"source\"][\"snap_zform\"]\n",
    "snap_last_lst = proc_data[it_id][\"source\"][\"last_snap\"]\n",
    "snap_accr = proc_data[it_id][\"source\"][\"snap_acc\"]\n",
    "\n",
    "ptypes_byte = proc_data[it_id][\"source\"][\"ptype\"]\n",
    "ptypes = [ptype.decode(\"utf-8\") for ptype in ptypes_byte]"
   ]
  },
  {
   "cell_type": "code",
   "execution_count": 393,
   "metadata": {},
   "outputs": [],
   "source": [
    "public_snapshot_fil = data_dir + \"external/snapshot_times_public.txt\"\n",
    "with open(public_snapshot_fil) as f:\n",
    "    content = f.readlines()\n",
    "    content = content[13:]\n",
    "snap_pub = ascii.read(content)\n",
    "\n",
    "t_form_lst = proc_data[it_id][\"source\"][\"form_time\"]\n",
    "t_dis_lst = proc_data[it_id][\"source\"][\"t_dis\"]\n",
    "\n",
    "gc_id_snap = []\n",
    "group_id_snap = []\n",
    "ptype_snap = []\n",
    "snap_accr_snap = []\n",
    "\n",
    "idx = np.where(snap_pub[\"index\"] == snapshot)[0][0]\n",
    "time = snap_pub[\"time[Gyr]\"][idx]\n",
    "snap_id = snapshot_name(snapshot)\n",
    "\n",
    "for gc, group, ptype, a_flag, t_form, t_dis, snap_ac in zip(\n",
    "    gc_id, group_id, ptypes, analyse_flag, t_form_lst, t_dis_lst, snap_accr\n",
    "):\n",
    "    if a_flag == 0:\n",
    "        continue\n",
    "\n",
    "    if time < t_form:\n",
    "        continue\n",
    "\n",
    "    if (t_dis != -1) and (t_dis < time):\n",
    "        continue\n",
    "\n",
    "    gc_id_snap.append(gc)\n",
    "    group_id_snap.append(group)\n",
    "    ptype_snap.append(ptype)\n",
    "    snap_accr_snap.append(snap_ac)"
   ]
  },
  {
   "cell_type": "code",
   "execution_count": 394,
   "metadata": {},
   "outputs": [],
   "source": [
    "gc_id_snap = []\n",
    "group_id_snap = []\n",
    "ptype_snap = []\n",
    "snap_accr_snap = []\n",
    "\n",
    "snap_id = snapshot_name(snapshot)\n",
    "for gc, group, ptype, a_flag, snap_form, snap_last, snap_ac, t_dis in zip(\n",
    "    gc_id, group_id, ptypes, analyse_flag, snap_zform, snap_last_lst, snap_accr, t_dis_lst\n",
    "):\n",
    "    if a_flag == 0:\n",
    "        continue\n",
    "\n",
    "    if snapshot < snap_form:\n",
    "        continue\n",
    "\n",
    "    if (t_dis != -1) and (snap_last <= snapshot):\n",
    "        continue\n",
    "\n",
    "    gc_id_snap.append(gc)\n",
    "    group_id_snap.append(group)\n",
    "    ptype_snap.append(ptype)\n",
    "    snap_accr_snap.append(snap_ac)"
   ]
  },
  {
   "cell_type": "code",
   "execution_count": 395,
   "metadata": {},
   "outputs": [
    {
     "data": {
      "text/plain": [
       "np.int64(600)"
      ]
     },
     "execution_count": 395,
     "metadata": {},
     "output_type": "execute_result"
    }
   ],
   "source": [
    "np.max(snap_last_lst)"
   ]
  },
  {
   "cell_type": "code",
   "execution_count": 396,
   "metadata": {},
   "outputs": [],
   "source": [
    "snap_mass_file = raw_dir + \"allcat_s-%d_p2-7_p3-1_k-1.5_logm_snap%d.txt\" % (it, snapshot - offset)\n",
    "gc_id_file = raw_dir + \"allcat_s-%d_p2-7_p3-1_gcid.txt\" % it\n",
    "\n",
    "\n",
    "gcid_df = pd.read_csv(gc_id_file, sep=\" \").drop([\"ID\"], axis=1)\n",
    "gcid_df.columns = [\"GC_ID\", \"quality\"]\n",
    "\n",
    "mass_snap_df = pd.read_csv(snap_mass_file, header=None)\n",
    "mass_snap_df.columns = [\"mass\"]\n",
    "\n",
    "comb_df = pd.concat([gcid_df, mass_snap_df], axis=1)"
   ]
  },
  {
   "cell_type": "code",
   "execution_count": 397,
   "metadata": {},
   "outputs": [
    {
     "data": {
      "text/html": [
       "<div>\n",
       "<style scoped>\n",
       "    .dataframe tbody tr th:only-of-type {\n",
       "        vertical-align: middle;\n",
       "    }\n",
       "\n",
       "    .dataframe tbody tr th {\n",
       "        vertical-align: top;\n",
       "    }\n",
       "\n",
       "    .dataframe thead th {\n",
       "        text-align: right;\n",
       "    }\n",
       "</style>\n",
       "<table border=\"1\" class=\"dataframe\">\n",
       "  <thead>\n",
       "    <tr style=\"text-align: right;\">\n",
       "      <th></th>\n",
       "      <th>GC_ID</th>\n",
       "      <th>quality</th>\n",
       "      <th>mass</th>\n",
       "    </tr>\n",
       "  </thead>\n",
       "  <tbody>\n",
       "    <tr>\n",
       "      <th>144</th>\n",
       "      <td>57057454</td>\n",
       "      <td>2</td>\n",
       "      <td>4.926</td>\n",
       "    </tr>\n",
       "    <tr>\n",
       "      <th>171</th>\n",
       "      <td>50061388</td>\n",
       "      <td>2</td>\n",
       "      <td>4.329</td>\n",
       "    </tr>\n",
       "    <tr>\n",
       "      <th>182</th>\n",
       "      <td>57058931</td>\n",
       "      <td>2</td>\n",
       "      <td>4.197</td>\n",
       "    </tr>\n",
       "    <tr>\n",
       "      <th>207</th>\n",
       "      <td>64439473</td>\n",
       "      <td>2</td>\n",
       "      <td>4.528</td>\n",
       "    </tr>\n",
       "    <tr>\n",
       "      <th>350</th>\n",
       "      <td>119804751</td>\n",
       "      <td>0</td>\n",
       "      <td>4.209</td>\n",
       "    </tr>\n",
       "    <tr>\n",
       "      <th>...</th>\n",
       "      <td>...</td>\n",
       "      <td>...</td>\n",
       "      <td>...</td>\n",
       "    </tr>\n",
       "    <tr>\n",
       "      <th>12031</th>\n",
       "      <td>50308553</td>\n",
       "      <td>1</td>\n",
       "      <td>5.258</td>\n",
       "    </tr>\n",
       "    <tr>\n",
       "      <th>12107</th>\n",
       "      <td>47819237</td>\n",
       "      <td>2</td>\n",
       "      <td>5.262</td>\n",
       "    </tr>\n",
       "    <tr>\n",
       "      <th>12148</th>\n",
       "      <td>60013501</td>\n",
       "      <td>1</td>\n",
       "      <td>4.752</td>\n",
       "    </tr>\n",
       "    <tr>\n",
       "      <th>12177</th>\n",
       "      <td>47435620</td>\n",
       "      <td>2</td>\n",
       "      <td>4.425</td>\n",
       "    </tr>\n",
       "    <tr>\n",
       "      <th>12201</th>\n",
       "      <td>59286585</td>\n",
       "      <td>2</td>\n",
       "      <td>4.714</td>\n",
       "    </tr>\n",
       "  </tbody>\n",
       "</table>\n",
       "<p>228 rows × 3 columns</p>\n",
       "</div>"
      ],
      "text/plain": [
       "           GC_ID  quality   mass\n",
       "144     57057454        2  4.926\n",
       "171     50061388        2  4.329\n",
       "182     57058931        2  4.197\n",
       "207     64439473        2  4.528\n",
       "350    119804751        0  4.209\n",
       "...          ...      ...    ...\n",
       "12031   50308553        1  5.258\n",
       "12107   47819237        2  5.262\n",
       "12148   60013501        1  4.752\n",
       "12177   47435620        2  4.425\n",
       "12201   59286585        2  4.714\n",
       "\n",
       "[228 rows x 3 columns]"
      ]
     },
     "execution_count": 397,
     "metadata": {},
     "output_type": "execute_result"
    }
   ],
   "source": [
    "filt_comb_df = comb_df[comb_df[\"mass\"] != -1]\n",
    "filt_comb_df"
   ]
  },
  {
   "cell_type": "code",
   "execution_count": 398,
   "metadata": {},
   "outputs": [
    {
     "data": {
      "text/plain": [
       "Index([  144,   171,   182,   207,   350,   369,   370,   397,   559,  1145,\n",
       "       ...\n",
       "       11694, 11869, 11934, 11953, 11981, 12031, 12107, 12148, 12177, 12201],\n",
       "      dtype='int64', length=228)"
      ]
     },
     "execution_count": 398,
     "metadata": {},
     "output_type": "execute_result"
    }
   ],
   "source": [
    "indexes = filt_comb_df[filt_comb_df[\"GC_ID\"].isin(gc_id_snap)].index\n",
    "indexes"
   ]
  },
  {
   "cell_type": "code",
   "execution_count": 399,
   "metadata": {},
   "outputs": [
    {
     "name": "stdout",
     "output_type": "stream",
     "text": [
      "228 228\n"
     ]
    }
   ],
   "source": [
    "print(len(gc_id_snap), len(filt_comb_df))"
   ]
  },
  {
   "cell_type": "code",
   "execution_count": 400,
   "metadata": {},
   "outputs": [],
   "source": [
    "test_list = [gc for gc in filt_comb_df[\"GC_ID\"]]"
   ]
  },
  {
   "cell_type": "code",
   "execution_count": 401,
   "metadata": {},
   "outputs": [
    {
     "name": "stdout",
     "output_type": "stream",
     "text": [
      "228 228\n"
     ]
    }
   ],
   "source": [
    "print(len(gc_id_snap), len(test_list))"
   ]
  },
  {
   "cell_type": "code",
   "execution_count": 402,
   "metadata": {},
   "outputs": [],
   "source": [
    "for gc in test_list:\n",
    "    if gc not in gc_id_snap:\n",
    "        print(gc)"
   ]
  },
  {
   "cell_type": "code",
   "execution_count": 403,
   "metadata": {},
   "outputs": [],
   "source": [
    "for gc in gc_id_snap:\n",
    "    if gc not in test_list:\n",
    "        print(gc)"
   ]
  },
  {
   "cell_type": "code",
   "execution_count": 405,
   "metadata": {},
   "outputs": [],
   "source": [
    "proc_data.close()"
   ]
  }
 ],
 "metadata": {
  "kernelspec": {
   "display_name": ".venv",
   "language": "python",
   "name": "python3"
  },
  "language_info": {
   "codemirror_mode": {
    "name": "ipython",
    "version": 3
   },
   "file_extension": ".py",
   "mimetype": "text/x-python",
   "name": "python",
   "nbconvert_exporter": "python",
   "pygments_lexer": "ipython3",
   "version": "3.11.3"
  }
 },
 "nbformat": 4,
 "nbformat_minor": 2
}
