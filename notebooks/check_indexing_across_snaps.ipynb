{
 "cells": [
  {
   "cell_type": "code",
   "execution_count": 1,
   "id": "f335c4a3",
   "metadata": {},
   "outputs": [],
   "source": [
    "import gc_utils  # type: ignore\n",
    "import gizmo_analysis as gizmo\n",
    "import h5py\n",
    "import numpy as np\n",
    "import utilities as ut\n"
   ]
  },
  {
   "cell_type": "code",
   "execution_count": 2,
   "id": "51031d31",
   "metadata": {},
   "outputs": [],
   "source": [
    "sim = \"m12i\"\n",
    "sim_dir = \"/Users/z5114326/Documents/simulations/\"\n",
    "\n",
    "\n",
    "proc_file = sim_dir + sim + \"/\" + sim + \"_processed.hdf5\"\n",
    "proc_data = h5py.File(proc_file, \"r\")  # open processed data file"
   ]
  },
  {
   "cell_type": "code",
   "execution_count": 3,
   "id": "fc57cf0d",
   "metadata": {},
   "outputs": [],
   "source": [
    "it_lst = [0, 1]\n",
    "snap_lst = [214, 277, 294, 312]\n",
    "\n",
    "# for snap in snap_lst[1:]:\n",
    "#     print(snap)"
   ]
  },
  {
   "cell_type": "code",
   "execution_count": 55,
   "id": "88ae6625",
   "metadata": {},
   "outputs": [
    {
     "data": {
      "text/plain": [
       "2853"
      ]
     },
     "execution_count": 55,
     "metadata": {},
     "output_type": "execute_result"
    }
   ],
   "source": [
    "it = 1\n",
    "j = 1\n",
    "past_snap = snap_lst[j]\n",
    "curr_snap = snap_lst[j + 1]\n",
    "\n",
    "it_id = gc_utils.iteration_name(it)\n",
    "past_snap_id = gc_utils.snapshot_name(past_snap)\n",
    "curr_snap_id = gc_utils.snapshot_name(curr_snap)\n",
    "\n",
    "past_ptypes = proc_data[it_id][\"snapshots\"][past_snap_id][\"ptype\"][()]\n",
    "past_star_mask = np.array([ptype.decode(\"utf-8\") for ptype in past_ptypes]) == \"star\"\n",
    "\n",
    "curr_ptypes = proc_data[it_id][\"snapshots\"][curr_snap_id][\"ptype\"][()]\n",
    "curr_star_mask = np.array([ptype.decode(\"utf-8\") for ptype in curr_ptypes]) == \"star\"\n",
    "\n",
    "past_gcids = proc_data[it_id][\"snapshots\"][past_snap_id][\"gc_id\"][past_star_mask]\n",
    "curr_gcids = proc_data[it_id][\"snapshots\"][curr_snap_id][\"gc_id\"][curr_star_mask]\n",
    "\n",
    "common_gcids = np.intersect1d(curr_gcids, past_gcids)\n",
    "len(common_gcids)"
   ]
  },
  {
   "cell_type": "code",
   "execution_count": 56,
   "id": "b56bb202",
   "metadata": {},
   "outputs": [
    {
     "name": "stdout",
     "output_type": "stream",
     "text": [
      "\n",
      "# in utilities.simulation.Snapshot():\n",
      "* reading:  Users/z5114326/Documents/simulations/m12i/m12i_res7100/snapshot_times.txt\n",
      "\n",
      "  using snapshot index = 277, redshift = 1.000\n",
      "\n",
      "\n",
      "# in gizmo_analysis.gizmo_io.Read():\n",
      "* reading header from:  Users/z5114326/Documents/simulations/m12i/m12i_res7100/output/snapdir_277/snapshot_277.0.hdf5\n",
      "  snapshot contains the following number of particles:\n",
      "    dark      (id = 1): 70514272 particles\n",
      "    dark2     (id = 2): 5513331 particles\n",
      "    gas       (id = 0): 65828380 particles\n",
      "    star      (id = 4): 4728866 particles\n",
      "    blackhole (id = 5): 0 particles\n",
      "\n",
      "* reading the following\n",
      "  species: ['star']\n",
      "\n",
      "* reading particles from:\n",
      "    snapshot_277.0.hdf5\n",
      "    snapshot_277.1.hdf5\n",
      "    snapshot_277.2.hdf5\n",
      "    snapshot_277.3.hdf5\n",
      "\n",
      "* reading cosmological parameters from:  Users/z5114326/Documents/simulations/m12i/m12i_res7100/initial_condition/ic_agora_m12i.conf\n",
      "\n",
      "* checking sanity of particle properties\n",
      "\n",
      "\n",
      "# in gizmo_analysis.gizmo_track.ParticleCoordinate():\n",
      "  read 1 host (position, velocity, principal axes) from:  Users/z5114326/Documents/simulations/m12i/m12i_res7100/track/host_coordinates.hdf5\n",
      "  host1 position = (42407.29, 43271.18, 45248.77) [kpc comoving]\n",
      "  host1 velocity = (-75.1, 108.8, 80.8) [km/s]\n",
      "  host1 axis ratios = (0.75, 0.91, 0.83)\n",
      "\n",
      "\n",
      "# in gizmo_analysis.gizmo_track.ParticlePointer():\n",
      "* read particle pointers from:  Users/z5114326/Documents/simulations/m12i/m12i_res7100/track/star_gas_pointers_277.hdf5\n",
      "\n",
      "# in utilities.simulation.Snapshot():\n",
      "* reading:  Users/z5114326/Documents/simulations/m12i/m12i_res7100/snapshot_times.txt\n",
      "\n",
      "  using snapshot index = 294, redshift = 0.897\n",
      "\n",
      "\n",
      "# in gizmo_analysis.gizmo_io.Read():\n",
      "* reading header from:  Users/z5114326/Documents/simulations/m12i/m12i_res7100/output/snapdir_294/snapshot_294.0.hdf5\n",
      "  snapshot contains the following number of particles:\n",
      "    dark      (id = 1): 70514272 particles\n",
      "    dark2     (id = 2): 5513331 particles\n",
      "    gas       (id = 0): 65312963 particles\n",
      "    star      (id = 4): 5258989 particles\n",
      "    blackhole (id = 5): 0 particles\n",
      "\n",
      "* reading the following\n",
      "  species: ['star']\n",
      "\n",
      "* reading particles from:\n",
      "    snapshot_294.0.hdf5\n",
      "    snapshot_294.1.hdf5\n",
      "    snapshot_294.2.hdf5\n",
      "    snapshot_294.3.hdf5\n",
      "\n",
      "* reading cosmological parameters from:  Users/z5114326/Documents/simulations/m12i/m12i_res7100/initial_condition/ic_agora_m12i.conf\n",
      "\n",
      "* checking sanity of particle properties\n",
      "\n",
      "\n",
      "# in gizmo_analysis.gizmo_track.ParticleCoordinate():\n",
      "  read 1 host (position, velocity, principal axes) from:  Users/z5114326/Documents/simulations/m12i/m12i_res7100/track/host_coordinates.hdf5\n",
      "  host1 position = (42357.70, 43349.65, 45329.55) [kpc comoving]\n",
      "  host1 velocity = (-44.7, 90.5, 98.8) [km/s]\n",
      "  host1 axis ratios = (0.79, 0.83, 0.94)\n",
      "\n",
      "\n",
      "# in gizmo_analysis.gizmo_track.ParticlePointer():\n",
      "* read particle pointers from:  Users/z5114326/Documents/simulations/m12i/m12i_res7100/track/star_gas_pointers_294.hdf5\n"
     ]
    }
   ],
   "source": [
    "fire_dir = sim_dir + sim + \"/\" + sim + \"_res7100/\"\n",
    "past_part = gizmo.io.Read.read_snapshots(\"star\", \"index\", past_snap, fire_dir, assign_pointers=True)\n",
    "curr_part = gizmo.io.Read.read_snapshots(\"star\", \"index\", curr_snap, fire_dir, assign_pointers=True)"
   ]
  },
  {
   "cell_type": "code",
   "execution_count": 57,
   "id": "c0be16a9",
   "metadata": {},
   "outputs": [],
   "source": [
    "past_part.Pointer.add_intermediate_pointers(curr_part.Pointer)"
   ]
  },
  {
   "cell_type": "code",
   "execution_count": 58,
   "id": "cfd0d846",
   "metadata": {},
   "outputs": [],
   "source": [
    "pointers = past_part.Pointer.get_pointers(\n",
    "    species_name_from=\"star\", species_names_to=\"star\", intermediate_snapshot=True, forward=True\n",
    ")"
   ]
  },
  {
   "cell_type": "code",
   "execution_count": 63,
   "id": "c7dee7eb",
   "metadata": {},
   "outputs": [],
   "source": [
    "past_star_indices = proc_data[it_id][\"snapshots\"][past_snap_id][\"snap_part_idx\"][past_star_mask]\n",
    "curr_star_indices = proc_data[it_id][\"snapshots\"][curr_snap_id][\"snap_part_idx\"][curr_star_mask]\n",
    "corr_curr_star_indices = pointers[past_star_indices]"
   ]
  },
  {
   "cell_type": "code",
   "execution_count": 65,
   "id": "e11fc8d5",
   "metadata": {},
   "outputs": [],
   "source": [
    "curr_star_indices = 0"
   ]
  },
  {
   "cell_type": "code",
   "execution_count": 64,
   "id": "3783a72e",
   "metadata": {},
   "outputs": [
    {
     "data": {
      "text/plain": [
       "0"
      ]
     },
     "execution_count": 64,
     "metadata": {},
     "output_type": "execute_result"
    }
   ],
   "source": [
    "i = 0\n",
    "for gcid in common_gcids:\n",
    "    past_idx = np.where(past_gcids == gcid)[0]\n",
    "    curr_idx = np.where(curr_gcids == gcid)[0]\n",
    "\n",
    "    if (len(past_idx) > 1) or (len(curr_idx) > 1):\n",
    "        raise Warning(\"Multiple GC issue.\")\n",
    "\n",
    "    corr_curr_star_idx = corr_curr_star_indices[past_idx]\n",
    "    curr_star_idx = curr_star_indices[curr_idx]\n",
    "\n",
    "    # print(curr_star_idx, corr_curr_star_idx)\n",
    "\n",
    "    if curr_star_idx != corr_curr_star_idx:\n",
    "        i += 1\n",
    "\n",
    "i"
   ]
  },
  {
   "cell_type": "code",
   "execution_count": null,
   "id": "63edbb01",
   "metadata": {},
   "outputs": [],
   "source": [
    "# proc_data.close()"
   ]
  }
 ],
 "metadata": {
  "kernelspec": {
   "display_name": ".venv",
   "language": "python",
   "name": "python3"
  },
  "language_info": {
   "codemirror_mode": {
    "name": "ipython",
    "version": 3
   },
   "file_extension": ".py",
   "mimetype": "text/x-python",
   "name": "python",
   "nbconvert_exporter": "python",
   "pygments_lexer": "ipython3",
   "version": "3.11.3"
  }
 },
 "nbformat": 4,
 "nbformat_minor": 5
}
