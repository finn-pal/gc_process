{
 "cells": [
  {
   "cell_type": "code",
   "execution_count": 1,
   "id": "e11826d5",
   "metadata": {},
   "outputs": [],
   "source": [
    "import time\n",
    "\n",
    "import gizmo_analysis as gizmo\n",
    "import gc_utils  # type: ignore\n",
    "import h5py\n",
    "import numpy as np\n",
    "import pandas as pd\n",
    "import utilities as ut"
   ]
  },
  {
   "cell_type": "code",
   "execution_count": 2,
   "id": "d3088727",
   "metadata": {},
   "outputs": [
    {
     "name": "stdout",
     "output_type": "stream",
     "text": [
      "\n",
      "# in utilities.simulation.Snapshot():\n",
      "* reading:  simulations/m12i/m12i_res7100/snapshot_times.txt\n",
      "\n",
      "  using snapshot index = 214, redshift = 1.500\n",
      "\n",
      "\n",
      "# in gizmo_analysis.gizmo_io.Read():\n",
      "* reading header from:  simulations/m12i/m12i_res7100/output/snapdir_214/snapshot_214.0.hdf5\n",
      "  snapshot contains the following number of particles:\n",
      "    dark      (id = 1): 70514272 particles\n",
      "    dark2     (id = 2): 5513331 particles\n",
      "    gas       (id = 0): 68214754 particles\n",
      "    star      (id = 4): 2309196 particles\n",
      "    blackhole (id = 5): 0 particles\n",
      "\n",
      "* reading the following\n",
      "  species: ['dark', 'star']\n",
      "\n",
      "* reading particles from:\n",
      "    snapshot_214.0.hdf5\n",
      "    snapshot_214.1.hdf5\n",
      "    snapshot_214.2.hdf5\n",
      "    snapshot_214.3.hdf5\n",
      "\n",
      "* reading cosmological parameters from:  simulations/m12i/m12i_res7100/initial_condition/ic_agora_m12i.conf\n",
      "\n",
      "* checking sanity of particle properties\n",
      "\n",
      "\n",
      "# in gizmo_analysis.gizmo_track.ParticleCoordinate():\n",
      "  read 1 host (position, velocity, principal axes) from:  simulations/m12i/m12i_res7100/track/host_coordinates.hdf5\n",
      "  host1 position = (42695.30, 42783.59, 45008.39) [kpc comoving]\n",
      "  host1 velocity = (-72.7, 143.6, 47.4) [km/s]\n",
      "  host1 axis ratios = (0.40, 0.72, 0.56)\n",
      "\n"
     ]
    }
   ],
   "source": [
    "## function inputs\n",
    "sim = \"m12i\"\n",
    "# snapshot = 600\n",
    "snapshot = 214  # most gcs\n",
    "main_halo_tid = 25236877\n",
    "\n",
    "# sim_dir = \"../../simulations/\"\n",
    "sim_dir = \"../../../simulations/\"  # went up an extra level as in notebook folder\n",
    "data_dict = {}\n",
    "\n",
    "it_lst = [0]\n",
    "\n",
    "fire_dir = sim_dir + sim + \"/\" + sim + \"_res7100/\"\n",
    "\n",
    "# think about species, for basic kinematics just upload star and dark\n",
    "part = gizmo.io.Read.read_snapshots([\"dark\", \"star\"], \"index\", snapshot, fire_dir, assign_hosts_rotation=True)"
   ]
  },
  {
   "cell_type": "code",
   "execution_count": 3,
   "id": "dd94b3dc",
   "metadata": {},
   "outputs": [],
   "source": [
    "proc_file = sim_dir + sim + \"/\" + sim + \"_processed.hdf5\"\n",
    "proc_data = h5py.File(proc_file, \"r\")  # open processed data file"
   ]
  },
  {
   "cell_type": "code",
   "execution_count": 4,
   "id": "c88d2236",
   "metadata": {},
   "outputs": [
    {
     "name": "stderr",
     "output_type": "stream",
     "text": [
      "Retrieving Halo Tree.....................: 100%|████████████████████████████████████████████████████████████████████████| 1/1 [00:01<00:00,  1.28s/it]\n"
     ]
    },
    {
     "name": "stdout",
     "output_type": "stream",
     "text": [
      "\n",
      "# in utilities.simulation.Snapshot():\n",
      "* reading:  simulations/m12i/m12i_res7100/snapshot_times.txt\n",
      "\n",
      "  using snapshot index = 214, redshift = 1.500\n",
      "\n",
      "\n",
      "# in gizmo_analysis.gizmo_io.Read():\n",
      "* reading header from:  simulations/m12i/m12i_res7100/output/snapdir_214/snapshot_214.0.hdf5\n",
      "  snapshot contains the following number of particles:\n",
      "    dark      (id = 1): 70514272 particles\n",
      "    dark2     (id = 2): 5513331 particles\n",
      "    gas       (id = 0): 68214754 particles\n",
      "    star      (id = 4): 2309196 particles\n",
      "    blackhole (id = 5): 0 particles\n",
      "\n",
      "* reading the following\n",
      "  species: ['star']\n",
      "\n",
      "* reading particles from:\n",
      "    snapshot_214.0.hdf5\n",
      "    snapshot_214.1.hdf5\n",
      "    snapshot_214.2.hdf5\n",
      "    snapshot_214.3.hdf5\n",
      "\n",
      "* reading cosmological parameters from:  simulations/m12i/m12i_res7100/initial_condition/ic_agora_m12i.conf\n",
      "\n",
      "* checking sanity of particle properties\n",
      "\n",
      "\n",
      "# in gizmo_analysis.gizmo_track.ParticleCoordinate():\n",
      "  read 1 host (position, velocity, principal axes) from:  simulations/m12i/m12i_res7100/track/host_coordinates.hdf5\n",
      "  host1 position = (42695.30, 42783.59, 45008.39) [kpc comoving]\n",
      "  host1 velocity = (-72.7, 143.6, 47.4) [km/s]\n",
      "  host1 axis ratios = (0.40, 0.72, 0.56)\n",
      "\n",
      "\n",
      "# in utilities.simulation.Snapshot():\n",
      "* reading:  simulations/m12i/m12i_res7100/snapshot_times.txt\n",
      "\n",
      "  using snapshot index = 600, redshift = 0.000\n",
      "\n",
      "\n",
      "# in gizmo_analysis.gizmo_io.Read():\n",
      "* reading header from:  simulations/m12i/m12i_res7100/output/snapdir_600/snapshot_600.0.hdf5\n",
      "  snapshot contains the following number of particles:\n",
      "    dark      (id = 1): 70514272 particles\n",
      "    dark2     (id = 2): 5513331 particles\n",
      "    gas       (id = 0): 57060074 particles\n",
      "    star      (id = 4): 13976485 particles\n",
      "    blackhole (id = 5): 0 particles\n",
      "\n",
      "* reading the following\n",
      "  species: ['star', 'gas']\n",
      "\n",
      "* reading particles from:\n",
      "    snapshot_600.0.hdf5\n",
      "    snapshot_600.1.hdf5\n",
      "    snapshot_600.2.hdf5\n",
      "    snapshot_600.3.hdf5\n",
      "\n",
      "* reading cosmological parameters from:  simulations/m12i/m12i_res7100/initial_condition/ic_agora_m12i.conf\n",
      "\n",
      "* checking sanity of particle properties\n",
      "\n",
      "\n",
      "# in gizmo_analysis.gizmo_track.ParticleCoordinate():\n",
      "  read 1 host (position, velocity, principal axes) from:  simulations/m12i/m12i_res7100/track/host_coordinates.hdf5\n",
      "  host1 position = (41792.15, 44131.23, 46267.68) [kpc comoving]\n",
      "  host1 velocity = (-52.2, 73.6, 94.7) [km/s]\n",
      "  host1 axis ratios = (0.16, 0.16, 0.99)\n",
      "\n",
      "\n",
      "# in utilities.simulation.Snapshot():\n",
      "* reading:  simulations/m12i/m12i_res7100/snapshot_times.txt\n",
      "\n",
      "  using snapshot index = 214, redshift = 1.500\n",
      "\n",
      "\n",
      "# in gizmo_analysis.gizmo_io.Read():\n",
      "* reading header from:  simulations/m12i/m12i_res7100/output/snapdir_214/snapshot_214.0.hdf5\n",
      "  snapshot contains the following number of particles:\n",
      "    dark      (id = 1): 70514272 particles\n",
      "    dark2     (id = 2): 5513331 particles\n",
      "    gas       (id = 0): 68214754 particles\n",
      "    star      (id = 4): 2309196 particles\n",
      "    blackhole (id = 5): 0 particles\n",
      "\n",
      "* reading the following\n",
      "  species: ['star', 'gas']\n",
      "\n",
      "* reading particles from:\n",
      "    snapshot_214.0.hdf5\n",
      "    snapshot_214.1.hdf5\n",
      "    snapshot_214.2.hdf5\n",
      "    snapshot_214.3.hdf5\n",
      "\n",
      "* reading cosmological parameters from:  simulations/m12i/m12i_res7100/initial_condition/ic_agora_m12i.conf\n",
      "\n",
      "* checking sanity of particle properties\n",
      "\n",
      "\n",
      "# in gizmo_analysis.gizmo_track.ParticleCoordinate():\n",
      "  read 1 host (position, velocity, principal axes) from:  simulations/m12i/m12i_res7100/track/host_coordinates.hdf5\n",
      "  host1 position = (42695.30, 42783.59, 45008.39) [kpc comoving]\n",
      "  host1 velocity = (-72.7, 143.6, 47.4) [km/s]\n",
      "  host1 axis ratios = (0.40, 0.72, 0.56)\n",
      "\n",
      "\n",
      "# in gizmo_analysis.gizmo_track.ParticlePointer():\n",
      "* read particle pointers from:  simulations/m12i/m12i_res7100/track/star_gas_pointers_214.hdf5\n",
      "\n",
      "# in utilities.simulation.Snapshot():\n",
      "* reading:  simulations/m12i/m12i_res7100/snapshot_times.txt\n",
      "\n",
      "  using snapshot index = 172, redshift = 2.000\n",
      "\n",
      "\n",
      "# in gizmo_analysis.gizmo_io.Read():\n",
      "* reading header from:  simulations/m12i/m12i_res7100/output/snapdir_172/snapshot_172.0.hdf5\n",
      "  snapshot contains the following number of particles:\n",
      "    dark      (id = 1): 70514272 particles\n",
      "    dark2     (id = 2): 5513331 particles\n",
      "    gas       (id = 0): 69203734 particles\n",
      "    star      (id = 4): 1314410 particles\n",
      "    blackhole (id = 5): 0 particles\n",
      "\n",
      "* reading the following\n",
      "  species: ['star', 'gas']\n",
      "\n",
      "* reading particles from:\n",
      "    snapshot_172.0.hdf5\n",
      "    snapshot_172.1.hdf5\n",
      "    snapshot_172.2.hdf5\n",
      "    snapshot_172.3.hdf5\n",
      "\n",
      "* reading cosmological parameters from:  simulations/m12i/m12i_res7100/initial_condition/ic_agora_m12i.conf\n",
      "\n",
      "* checking sanity of particle properties\n",
      "! warning: gas temperature [min, max] = [4.879, 1.382e9]\n",
      "\n",
      "\n",
      "# in gizmo_analysis.gizmo_track.ParticleCoordinate():\n",
      "  read 1 host (position, velocity, principal axes) from:  simulations/m12i/m12i_res7100/track/host_coordinates.hdf5\n",
      "  host1 position = (42863.59, 42457.60, 44852.49) [kpc comoving]\n",
      "  host1 velocity = (-72.9, 88.0, 48.9) [km/s]\n",
      "  host1 axis ratios = (0.48, 0.93, 0.52)\n",
      "\n",
      "\n",
      "# in gizmo_analysis.gizmo_track.ParticlePointer():\n",
      "* read particle pointers from:  simulations/m12i/m12i_res7100/track/star_gas_pointers_172.hdf5\n",
      "\n",
      "# in utilities.simulation.Snapshot():\n",
      "* reading:  simulations/m12i/m12i_res7100/snapshot_times.txt\n",
      "\n",
      "* input redshift = 1:  using snapshot index = 277, redshift = 1.000\n",
      "\n",
      "\n",
      "# in gizmo_analysis.gizmo_io.Read():\n",
      "* reading header from:  simulations/m12i/m12i_res7100/output/snapdir_277/snapshot_277.0.hdf5\n",
      "  snapshot contains the following number of particles:\n",
      "    dark      (id = 1): 70514272 particles\n",
      "    dark2     (id = 2): 5513331 particles\n",
      "    gas       (id = 0): 65828380 particles\n",
      "    star      (id = 4): 4728866 particles\n",
      "    blackhole (id = 5): 0 particles\n",
      "\n",
      "* reading the following\n",
      "  species: ['star', 'gas']\n",
      "\n",
      "* reading particles from:\n",
      "    snapshot_277.0.hdf5\n",
      "    snapshot_277.1.hdf5\n",
      "    snapshot_277.2.hdf5\n",
      "    snapshot_277.3.hdf5\n",
      "\n",
      "* reading cosmological parameters from:  simulations/m12i/m12i_res7100/initial_condition/ic_agora_m12i.conf\n",
      "\n",
      "* checking sanity of particle properties\n",
      "! warning: gas mass [min, med, max] = [7067.277, 7067.277, 1.025e5]\n",
      "\n",
      "\n",
      "# in gizmo_analysis.gizmo_track.ParticleCoordinate():\n",
      "  read 1 host (position, velocity, principal axes) from:  simulations/m12i/m12i_res7100/track/host_coordinates.hdf5\n",
      "  host1 position = (42407.29, 43271.18, 45248.77) [kpc comoving]\n",
      "  host1 velocity = (-75.1, 108.8, 80.8) [km/s]\n",
      "  host1 axis ratios = (0.75, 0.91, 0.83)\n",
      "\n",
      "\n",
      "# in gizmo_analysis.gizmo_track.ParticlePointer():\n",
      "* read particle pointers from:  simulations/m12i/m12i_res7100/track/star_gas_pointers_277.hdf5\n",
      "\n",
      "# in utilities.simulation.Snapshot():\n",
      "* reading:  simulations/m12i/m12i_res7100/snapshot_times.txt\n",
      "\n",
      "* input redshift = 2:  using snapshot index = 172, redshift = 2.000\n",
      "\n",
      "\n",
      "# in gizmo_analysis.gizmo_io.Read():\n",
      "* reading header from:  simulations/m12i/m12i_res7100/output/snapdir_172/snapshot_172.0.hdf5\n",
      "  snapshot contains the following number of particles:\n",
      "    dark      (id = 1): 70514272 particles\n",
      "    dark2     (id = 2): 5513331 particles\n",
      "    gas       (id = 0): 69203734 particles\n",
      "    star      (id = 4): 1314410 particles\n",
      "    blackhole (id = 5): 0 particles\n",
      "\n",
      "* reading the following\n",
      "  species: ['star', 'gas']\n",
      "\n",
      "* reading particles from:\n",
      "    snapshot_172.0.hdf5\n",
      "    snapshot_172.1.hdf5\n",
      "    snapshot_172.2.hdf5\n",
      "\n",
      "# in utilities.simulation.Snapshot():\n",
      "* reading:  simulations/m12i/m12i_res7100/snapshot_times.txt\n",
      "\n",
      "* input redshift = 1:  using snapshot index = 277, redshift = 1.000\n",
      "\n",
      "\n",
      "# in gizmo_analysis.gizmo_io.Read():\n",
      "* reading header from:  simulations/m12i/m12i_res7100/output/snapdir_277/snapshot_277.0.hdf5\n",
      "  snapshot contains the following number of particles:\n",
      "    dark      (id = 1): 70514272 particles\n",
      "    dark2     (id = 2): 5513331 particles\n",
      "    gas       (id = 0): 65828380 particles\n",
      "    star      (id = 4): 4728866 particles\n",
      "    blackhole (id = 5): 0 particles\n",
      "\n",
      "* reading the following\n",
      "  species: ['star']\n",
      "\n",
      "* reading particles from:\n",
      "    snapshot_277.0.hdf5\n",
      "    snapshot_277.1.hdf5\n",
      "    snapshot_277.2.hdf5\n",
      "    snapshot_277.3.hdf5\n",
      "\n",
      "* reading cosmological parameters from:  simulations/m12i/m12i_res7100/initial_condition/ic_agora_m12i.conf\n",
      "\n",
      "* checking sanity of particle properties\n",
      "\n",
      "\n",
      "# in gizmo_analysis.gizmo_track.ParticleCoordinate():\n",
      "  read 1 host (position, velocity, principal axes) from:  simulations/m12i/m12i_res7100/track/host_coordinates.hdf5\n",
      "  host1 position = (42407.29, 43271.18, 45248.77) [kpc comoving]\n",
      "  host1 velocity = (-75.1, 108.8, 80.8) [km/s]\n",
      "  host1 axis ratios = (0.75, 0.91, 0.83)\n",
      "\n",
      "\n",
      "# in gizmo_analysis.gizmo_track.ParticlePointer():\n",
      "* read particle pointers from:  simulations/m12i/m12i_res7100/track/star_gas_pointers_277.hdf5\n",
      "\n",
      "# in utilities.simulation.Snapshot():\n",
      "* reading:  simulations/m12i/m12i_res7100/snapshot_times.txt\n",
      "\n",
      "* input redshift = 2:  using snapshot index = 172, redshift = 2.000\n",
      "\n",
      "\n",
      "# in gizmo_analysis.gizmo_io.Read():\n",
      "* reading header from:  simulations/m12i/m12i_res7100/output/snapdir_172/snapshot_172.0.hdf5\n",
      "  snapshot contains the following number of particles:\n",
      "    dark      (id = 1): 70514272 particles\n",
      "    dark2     (id = 2): 5513331 particles\n",
      "    gas       (id = 0): 69203734 particles\n",
      "    star      (id = 4): 1314410 particles\n",
      "    blackhole (id = 5): 0 particles\n",
      "\n",
      "* reading the following\n",
      "  species: ['star']\n",
      "\n",
      "* reading particles from:\n",
      "    snapshot_172.0.hdf5\n",
      "    snapshot_172.1.hdf5\n",
      "    snapshot_172.2.hdf5\n",
      "    snapshot_172.3.hdf5\n",
      "\n",
      "* reading cosmological parameters from:  simulations/m12i/m12i_res7100/initial_condition/ic_agora_m12i.conf\n",
      "\n",
      "* checking sanity of particle properties\n",
      "\n",
      "\n",
      "# in gizmo_analysis.gizmo_track.ParticleCoordinate():\n",
      "  read 1 host (position, velocity, principal axes) from:  simulations/m12i/m12i_res7100/track/host_coordinates.hdf5\n",
      "  host1 position = (42863.59, 42457.60, 44852.49) [kpc comoving]\n",
      "  host1 velocity = (-72.9, 88.0, 48.9) [km/s]\n",
      "  host1 axis ratios = (0.48, 0.93, 0.52)\n",
      "\n",
      "\n",
      "# in gizmo_analysis.gizmo_track.ParticlePointer():\n",
      "* read particle pointers from:  simulations/m12i/m12i_res7100/track/star_gas_pointers_172.hdf5\n",
      "\n",
      "# in utilities.simulation.Snapshot():\n",
      "* reading:  simulations/m12i/m12i_res7100/snapshot_times.txt\n",
      "\n",
      "* input redshift = 1:  using snapshot index = 277, redshift = 1.000\n",
      "\n",
      "\n",
      "# in gizmo_analysis.gizmo_io.Read():\n",
      "* reading header from:  simulations/m12i/m12i_res7100/output/snapdir_277/snapshot_277.0.hdf5\n",
      "  snapshot contains the following number of particles:\n",
      "    dark      (id = 1): 70514272 particles\n",
      "    dark2     (id = 2): 5513331 particles\n",
      "    gas       (id = 0): 65828380 particles\n",
      "    star      (id = 4): 4728866 particles\n",
      "    blackhole (id = 5): 0 particles\n",
      "\n",
      "* reading the following\n",
      "  species: ['star']\n",
      "\n",
      "* reading particles from:\n",
      "    snapshot_277.0.hdf5\n",
      "    snapshot_277.1.hdf5\n",
      "    snapshot_277.2.hdf5\n",
      "    snapshot_277.3.hdf5\n",
      "\n",
      "* reading cosmological parameters from:  simulations/m12i/m12i_res7100/initial_condition/ic_agora_m12i.conf\n",
      "\n",
      "* checking sanity of particle properties\n",
      "\n",
      "\n",
      "# in gizmo_analysis.gizmo_track.ParticleCoordinate():\n",
      "  read 1 host (position, velocity, principal axes) from:  simulations/m12i/m12i_res7100/track/host_coordinates.hdf5\n",
      "  host1 position = (42407.29, 43271.18, 45248.77) [kpc comoving]\n",
      "  host1 velocity = (-75.1, 108.8, 80.8) [km/s]\n",
      "  host1 axis ratios = (0.75, 0.91, 0.83)\n",
      "\n",
      "\n",
      "# in gizmo_analysis.gizmo_track.ParticlePointer():\n",
      "* read particle pointers from:  simulations/m12i/m12i_res7100/track/star_gas_pointers_277.hdf5\n",
      "\n",
      "# in utilities.simulation.Snapshot():\n",
      "* reading:  simulations/m12i/m12i_res7100/snapshot_times.txt\n",
      "\n",
      "* input redshift = 2:  using snapshot index = 172, redshift = 2.000\n",
      "\n",
      "\n",
      "# in gizmo_analysis.gizmo_io.Read():\n",
      "* reading header from:  simulations/m12i/m12i_res7100/output/snapdir_172/snapshot_172.0.hdf5\n",
      "  snapshot contains the following number of particles:\n",
      "    dark      (id = 1): 70514272 particles\n",
      "    dark2     (id = 2): 5513331 particles\n",
      "    gas       (id = 0): 69203734 particles\n",
      "    star      (id = 4): 1314410 particles\n",
      "    blackhole (id = 5): 0 particles\n",
      "\n",
      "* reading the following\n",
      "  species: ['star']\n",
      "\n",
      "* reading particles from:\n",
      "    snapshot_172.0.hdf5\n",
      "    snapshot_172.1.hdf5\n",
      "    snapshot_172.2.hdf5\n",
      "    snapshot_172.3.hdf5\n",
      "\n",
      "* reading cosmological parameters from:  simulations/m12i/m12i_res7100/initial_condition/ic_agora_m12i.conf\n",
      "\n",
      "* checking sanity of particle properties\n",
      "\n",
      "\n",
      "# in gizmo_analysis.gizmo_track.ParticleCoordinate():\n",
      "  read 1 host (position, velocity, principal axes) from:  simulations/m12i/m12i_res7100/track/host_coordinates.hdf5\n",
      "  host1 position = (42863.59, 42457.60, 44852.49) [kpc comoving]\n",
      "  host1 velocity = (-72.9, 88.0, 48.9) [km/s]\n",
      "  host1 axis ratios = (0.48, 0.93, 0.52)\n",
      "\n",
      "\n",
      "# in gizmo_analysis.gizmo_track.ParticlePointer():\n",
      "* read particle pointers from:  simulations/m12i/m12i_res7100/track/star_gas_pointers_172.hdf5\n",
      "\n",
      "# in utilities.simulation.Snapshot():\n",
      "* reading:  simulations/m12i/m12i_res7100/snapshot_times.txt\n",
      "\n",
      "* input redshift = 1:  using snapshot index = 277, redshift = 1.000\n",
      "\n",
      "\n",
      "# in gizmo_analysis.gizmo_io.Read():\n",
      "* reading header from:  simulations/m12i/m12i_res7100/output/snapdir_277/snapshot_277.0.hdf5\n",
      "  snapshot contains the following number of particles:\n",
      "    dark      (id = 1): 70514272 particles\n",
      "    dark2     (id = 2): 5513331 particles\n",
      "    gas       (id = 0): 65828380 particles\n",
      "    star      (id = 4): 4728866 particles\n",
      "    blackhole (id = 5): 0 particles\n",
      "\n",
      "* reading the following\n",
      "  species: ['star']\n",
      "\n",
      "* reading particles from:\n",
      "    snapshot_277.0.hdf5\n",
      "    snapshot_277.1.hdf5\n",
      "    snapshot_277.2.hdf5\n",
      "    snapshot_277.3.hdf5\n",
      "\n",
      "* reading cosmological parameters from:  simulations/m12i/m12i_res7100/initial_condition/ic_agora_m12i.conf\n",
      "\n",
      "* checking sanity of particle properties\n",
      "\n",
      "\n",
      "# in gizmo_analysis.gizmo_track.ParticleCoordinate():\n",
      "  read 1 host (position, velocity, principal axes) from:  simulations/m12i/m12i_res7100/track/host_coordinates.hdf5\n",
      "  host1 position = (42407.29, 43271.18, 45248.77) [kpc comoving]\n",
      "  host1 velocity = (-75.1, 108.8, 80.8) [km/s]\n",
      "  host1 axis ratios = (0.75, 0.91, 0.83)\n",
      "\n",
      "\n",
      "# in gizmo_analysis.gizmo_track.ParticlePointer():\n",
      "* read particle pointers from:  simulations/m12i/m12i_res7100/track/star_gas_pointers_277.hdf5\n",
      "\n",
      "# in utilities.simulation.Snapshot():\n",
      "* reading:  simulations/m12i/m12i_res7100/snapshot_times.txt\n",
      "\n",
      "* input redshift = 1:  using snapshot index = 277, redshift = 1.000\n",
      "\n",
      "\n",
      "# in gizmo_analysis.gizmo_io.Read():\n",
      "* reading header from:  simulations/m12i/m12i_res7100/output/snapdir_277/snapshot_277.0.hdf5\n",
      "  snapshot contains the following number of particles:\n",
      "    dark      (id = 1): 70514272 particles\n",
      "    dark2     (id = 2): 5513331 particles\n",
      "    gas       (id = 0): 65828380 particles\n",
      "    star      (id = 4): 4728866 particles\n",
      "    blackhole (id = 5): 0 particles\n",
      "\n",
      "* reading the following\n",
      "  species: ['star']\n",
      "\n",
      "* reading particles from:\n",
      "    snapshot_277.0.hdf5\n",
      "    snapshot_277.1.hdf5\n",
      "    snapshot_277.2.hdf5\n",
      "    snapshot_277.3.hdf5\n",
      "\n",
      "* reading cosmological parameters from:  simulations/m12i/m12i_res7100/initial_condition/ic_agora_m12i.conf\n",
      "\n",
      "* checking sanity of particle properties\n",
      "\n",
      "\n",
      "# in gizmo_analysis.gizmo_track.ParticleCoordinate():\n",
      "  read 1 host (position, velocity, principal axes) from:  simulations/m12i/m12i_res7100/track/host_coordinates.hdf5\n",
      "  host1 position = (42407.29, 43271.18, 45248.77) [kpc comoving]\n",
      "  host1 velocity = (-75.1, 108.8, 80.8) [km/s]\n",
      "  host1 axis ratios = (0.75, 0.91, 0.83)\n",
      "\n",
      "\n",
      "# in gizmo_analysis.gizmo_track.ParticlePointer():\n",
      "* read particle pointers from:  simulations/m12i/m12i_res7100/track/star_gas_pointers_277.hdf5\n",
      "\n",
      "# in utilities.simulation.Snapshot():\n",
      "* reading:  simulations/m12i/m12i_res7100/snapshot_times.txt\n",
      "\n",
      "* input redshift = 1:  using snapshot index = 277, redshift = 1.000\n",
      "\n",
      "\n",
      "# in gizmo_analysis.gizmo_io.Read():\n",
      "* reading header from:  simulations/m12i/m12i_res7100/output/snapdir_277/snapshot_277.0.hdf5\n",
      "  snapshot contains the following number of particles:\n",
      "    dark      (id = 1): 70514272 particles\n",
      "    dark2     (id = 2): 5513331 particles\n",
      "    gas       (id = 0): 65828380 particles\n",
      "    star      (id = 4): 4728866 particles\n",
      "    blackhole (id = 5): 0 particles\n",
      "\n",
      "* reading the following\n",
      "  species: ['star']\n",
      "\n",
      "* reading particles from:\n",
      "    snapshot_277.0.hdf5\n",
      "    snapshot_277.1.hdf5\n",
      "    snapshot_277.2.hdf5\n",
      "    snapshot_277.3.hdf5\n",
      "\n",
      "* reading cosmological parameters from:  simulations/m12i/m12i_res7100/initial_condition/ic_agora_m12i.conf\n",
      "\n",
      "* checking sanity of particle properties\n",
      "\n",
      "\n",
      "# in gizmo_analysis.gizmo_track.ParticleCoordinate():\n",
      "  read 1 host (position, velocity, principal axes) from:  simulations/m12i/m12i_res7100/track/host_coordinates.hdf5\n",
      "  host1 position = (42407.29, 43271.18, 45248.77) [kpc comoving]\n",
      "  host1 velocity = (-75.1, 108.8, 80.8) [km/s]\n",
      "  host1 axis ratios = (0.75, 0.91, 0.83)\n",
      "\n",
      "\n",
      "# in gizmo_analysis.gizmo_track.ParticlePointer():\n",
      "* read particle pointers from:  simulations/m12i/m12i_res7100/track/star_gas_pointers_277.hdf5\n",
      "\n",
      "# in utilities.simulation.Snapshot():\n",
      "* reading:  simulations/m12i/m12i_res7100/snapshot_times.txt\n",
      "\n",
      "* input redshift = 2:  using snapshot index = 172, redshift = 2.000\n",
      "\n",
      "\n",
      "# in gizmo_analysis.gizmo_io.Read():\n",
      "* reading header from:  simulations/m12i/m12i_res7100/output/snapdir_172/snapshot_172.0.hdf5\n",
      "  snapshot contains the following number of particles:\n",
      "    dark      (id = 1): 70514272 particles\n",
      "    dark2     (id = 2): 5513331 particles\n",
      "    gas       (id = 0): 69203734 particles\n",
      "    star      (id = 4): 1314410 particles\n",
      "    blackhole (id = 5): 0 particles\n",
      "\n",
      "* reading the following\n",
      "  species: ['star']\n",
      "\n",
      "* reading particles from:\n",
      "    snapshot_172.0.hdf5\n",
      "    snapshot_172.1.hdf5\n",
      "    snapshot_172.2.hdf5\n",
      "    snapshot_172.3.hdf5\n",
      "\n",
      "* reading cosmological parameters from:  simulations/m12i/m12i_res7100/initial_condition/ic_agora_m12i.conf\n",
      "\n",
      "* checking sanity of particle properties\n",
      "\n",
      "\n",
      "# in gizmo_analysis.gizmo_track.ParticleCoordinate():\n",
      "  read 1 host (position, velocity, principal axes) from:  simulations/m12i/m12i_res7100/track/host_coordinates.hdf5\n",
      "  host1 position = (42863.59, 42457.60, 44852.49) [kpc comoving]\n",
      "  host1 velocity = (-72.9, 88.0, 48.9) [km/s]\n",
      "  host1 axis ratios = (0.48, 0.93, 0.52)\n",
      "\n",
      "\n",
      "# in gizmo_analysis.gizmo_track.ParticlePointer():\n",
      "* read particle pointers from:  simulations/m12i/m12i_res7100/track/star_gas_pointers_172.hdf5\n"
     ]
    }
   ],
   "source": [
    "halt = gc_utils.get_halo_tree(sim, sim_dir, assign_hosts_rotation=False)"
   ]
  },
  {
   "cell_type": "code",
   "execution_count": 5,
   "id": "687911ad",
   "metadata": {},
   "outputs": [],
   "source": [
    "def remove_duplicates_with_report(arr):\n",
    "    arr = np.array(arr)  # Convert the list to a numpy array\n",
    "    unique_elements, counts = np.unique(arr, return_counts=True)  # Get unique elements and their counts\n",
    "    duplicates = unique_elements[counts > 1]  # Duplicates are those that appear more than once\n",
    "    unique_list = unique_elements.tolist()  # Convert unique elements back to a list\n",
    "\n",
    "    return unique_list, duplicates.tolist()  # Return unique and duplicate lists"
   ]
  },
  {
   "cell_type": "code",
   "execution_count": 6,
   "id": "cf36f61e",
   "metadata": {},
   "outputs": [],
   "source": [
    "# id_idx_map, gc_id_snap, ptype_snap = gc_utils.create_gc_part_idx_dict(part, proc_data, it, snapshot)\n",
    "\n",
    "it = 1\n",
    "it_id = gc_utils.iteration_name(it)\n",
    "snap_id = gc_utils.snapshot_name(snapshot)\n",
    "\n",
    "gc_id_snap = proc_data[it_id][\"snapshots\"][snap_id][\"gc_id\"][()]\n",
    "\n",
    "ptype_byte_snap = proc_data[it_id][\"snapshots\"][snap_id][\"ptype\"]\n",
    "ptype_snap = [ptype.decode(\"utf-8\") for ptype in ptype_byte_snap]\n",
    "\n",
    "# Step 1: group GCs by particle type\n",
    "gc_by_ptype = {}\n",
    "gc_by_ptype[\"star\"] = []\n",
    "gc_by_ptype[\"dark\"] = []\n",
    "\n",
    "for gc, ptype in zip(gc_id_snap, ptype_snap):\n",
    "    gc_by_ptype[ptype].append(gc)\n",
    "\n",
    "# Step 2: for each ptype, build a small dict: gc_id → index\n",
    "id_idx_map = {}\n",
    "\n",
    "for ptype, gc_ids in gc_by_ptype.items():\n",
    "    ids = part[ptype][\"id\"]  # potentially millions of entries\n",
    "    # gc_ids = np.array(gc_ids)  # small subset\n",
    "\n",
    "    # Check which of these are in the main list\n",
    "    mask = np.isin(ids, gc_ids)\n",
    "    idxs = np.nonzero(mask)[0]\n",
    "    found_ids = ids[idxs]\n",
    "\n",
    "    # Build small, efficient lookup: GC ID → array index\n",
    "    id_idx_map[ptype] = dict(zip(found_ids, idxs))\n",
    "\n",
    "    # concerned abour duplciate star ids\n",
    "    if ptype == \"star\":\n",
    "        _, duplicates_ids = remove_duplicates_with_report(found_ids)"
   ]
  },
  {
   "cell_type": "code",
   "execution_count": 7,
   "id": "12c4d372",
   "metadata": {},
   "outputs": [
    {
     "data": {
      "text/plain": [
       "[42251338, 48721435]"
      ]
     },
     "execution_count": 7,
     "metadata": {},
     "output_type": "execute_result"
    }
   ],
   "source": [
    "duplicates_ids"
   ]
  },
  {
   "cell_type": "code",
   "execution_count": 8,
   "id": "a82a83a9",
   "metadata": {},
   "outputs": [],
   "source": [
    "i = 0\n",
    "main_halo_tid = 25236877"
   ]
  },
  {
   "cell_type": "code",
   "execution_count": 9,
   "id": "042d5f0b",
   "metadata": {},
   "outputs": [
    {
     "data": {
      "text/plain": [
       "210"
      ]
     },
     "execution_count": 9,
     "metadata": {},
     "output_type": "execute_result"
    }
   ],
   "source": [
    "ana_mask = proc_data[it_id][\"source\"][\"analyse_flag\"][()] == 1\n",
    "gc_mask = proc_data[it_id][\"source\"][\"gc_id\"][()] == duplicates_ids[i]\n",
    "snap_form = proc_data[it_id][\"source\"][\"snap_zform\"][ana_mask & gc_mask][0]\n",
    "snap_form"
   ]
  },
  {
   "cell_type": "code",
   "execution_count": 10,
   "id": "ec2dd125",
   "metadata": {},
   "outputs": [
    {
     "data": {
      "text/plain": [
       "214"
      ]
     },
     "execution_count": 10,
     "metadata": {},
     "output_type": "execute_result"
    }
   ],
   "source": [
    "# get closest next public snapshot (previously calculated)\n",
    "pubsnap_form = proc_data[it_id][\"source\"][\"pubsnap_zform\"][ana_mask & gc_mask][0]\n",
    "pubsnap_form"
   ]
  },
  {
   "cell_type": "code",
   "execution_count": 11,
   "id": "cb7021e9",
   "metadata": {},
   "outputs": [
    {
     "data": {
      "text/plain": [
       "0"
      ]
     },
     "execution_count": 11,
     "metadata": {},
     "output_type": "execute_result"
    }
   ],
   "source": [
    "group_id = np.abs(proc_data[it_id][\"source\"][\"group_id\"][ana_mask & gc_mask][0])\n",
    "group_id"
   ]
  },
  {
   "cell_type": "code",
   "execution_count": 12,
   "id": "20a95f26",
   "metadata": {},
   "outputs": [
    {
     "data": {
      "text/plain": [
       "6279613"
      ]
     },
     "execution_count": 12,
     "metadata": {},
     "output_type": "execute_result"
    }
   ],
   "source": [
    "if group_id == 0:\n",
    "    halo_tid = main_halo_tid\n",
    "else:\n",
    "    halo_tid = group_id\n",
    "\n",
    "halo_tid_snap = gc_utils.get_halo_prog_at_snap(halt, halo_tid, pubsnap_form)\n",
    "halo_tid_snap"
   ]
  },
  {
   "cell_type": "code",
   "execution_count": 13,
   "id": "2bc30946",
   "metadata": {},
   "outputs": [
    {
     "data": {
      "text/plain": [
       "214"
      ]
     },
     "execution_count": 13,
     "metadata": {},
     "output_type": "execute_result"
    }
   ],
   "source": [
    "halo_idx = np.where(halt[\"tid\"] == halo_tid_snap)[0][0]\n",
    "snapcheck = halt[\"snapshot\"][halo_idx]\n",
    "snapcheck"
   ]
  },
  {
   "cell_type": "code",
   "execution_count": 14,
   "id": "74a3f2e6",
   "metadata": {},
   "outputs": [
    {
     "data": {
      "text/plain": [
       "array([42694.8  , 42784.387, 45005.57 ], dtype=float32)"
      ]
     },
     "execution_count": 14,
     "metadata": {},
     "output_type": "execute_result"
    }
   ],
   "source": [
    "halo_pos = halt[\"position\"][halo_idx]\n",
    "halo_pos"
   ]
  },
  {
   "cell_type": "code",
   "execution_count": 15,
   "id": "c9872514",
   "metadata": {},
   "outputs": [],
   "source": [
    "part_form = gizmo.io.Read.read_snapshots([\"star\"], \"index\", pubsnap_form, fire_dir)"
   ]
  },
  {
   "cell_type": "code",
   "execution_count": 16,
   "id": "8e616d82",
   "metadata": {},
   "outputs": [
    {
     "data": {
      "text/plain": [
       "array([ 5, 13, 14])"
      ]
     },
     "execution_count": 16,
     "metadata": {},
     "output_type": "execute_result"
    }
   ],
   "source": [
    "part_idxs = np.where(part[\"star\"][\"id\"] == duplicates_ids[i])[0]\n",
    "part_snapform = part[\"star\"].prop(\"form.snapshot\", part_idxs)\n",
    "\n",
    "idx = np.where(part_snapform == snap_form)[0]\n",
    "idx"
   ]
  },
  {
   "cell_type": "code",
   "execution_count": 17,
   "id": "1cae9f30",
   "metadata": {},
   "outputs": [
    {
     "data": {
      "text/plain": [
       "array([209, 207, 214, 205, 212, 210, 211, 214, 212, 209, 205, 209, 214,\n",
       "       210, 210, 212, 211, 205, 207], dtype=int32)"
      ]
     },
     "execution_count": 17,
     "metadata": {},
     "output_type": "execute_result"
    }
   ],
   "source": [
    "part_form_idxs = np.where(part_form[\"star\"][\"id\"] == duplicates_ids[i])[0]\n",
    "part_snapform = part_form[\"star\"].prop(\"form.snapshot\", part_idxs)\n",
    "part_snapform"
   ]
  },
  {
   "cell_type": "code",
   "execution_count": 18,
   "id": "5630aa48",
   "metadata": {},
   "outputs": [
    {
     "data": {
      "text/plain": [
       "array([ 524234, 1450863, 1476832])"
      ]
     },
     "execution_count": 18,
     "metadata": {},
     "output_type": "execute_result"
    }
   ],
   "source": [
    "idxs = np.where(part_snapform == snap_form)[0]\n",
    "part_interest_idxs = part_form_idxs[idxs]\n",
    "part_interest_idxs"
   ]
  },
  {
   "cell_type": "code",
   "execution_count": 19,
   "id": "56b19107",
   "metadata": {},
   "outputs": [
    {
     "data": {
      "text/plain": [
       "172"
      ]
     },
     "execution_count": 19,
     "metadata": {},
     "output_type": "execute_result"
    }
   ],
   "source": [
    "# get public snapshot at snapshot before formation\n",
    "\n",
    "public_snapshot_file = sim_dir + \"snapshot_times_public.txt\"\n",
    "pub_data = pd.read_table(public_snapshot_file, comment=\"#\", header=None, sep=r\"\\s+\")\n",
    "pub_data.columns = [\n",
    "    \"index\",\n",
    "    \"scale_factor\",\n",
    "    \"redshift\",\n",
    "    \"time_Gyr\",\n",
    "    \"lookback_time_Gyr\",\n",
    "    \"time_width_Myr\",\n",
    "]\n",
    "pub_snaps = np.array(pub_data[\"index\"], dtype=int)\n",
    "\n",
    "preform_snap_idx = np.where(pub_snaps == pubsnap_form)[0][0] - 1\n",
    "preform_snap = pub_snaps[preform_snap_idx]\n",
    "preform_snap"
   ]
  },
  {
   "cell_type": "code",
   "execution_count": 20,
   "id": "dbd1a9ec",
   "metadata": {},
   "outputs": [],
   "source": [
    "part_z0 = gizmo.io.Read.read_snapshots([\"star\", \"gas\"], \"index\", 600, fire_dir)\n",
    "\n",
    "part_form = gizmo.io.Read.read_snapshots(\n",
    "    [\"star\", \"gas\"], \"index\", pubsnap_form, fire_dir, assign_pointers=True\n",
    ")\n",
    "part_preform = gizmo.io.Read.read_snapshots(\n",
    "    [\"star\", \"gas\"], \"index\", preform_snap, fire_dir, assign_pointers=True\n",
    ")"
   ]
  },
  {
   "cell_type": "code",
   "execution_count": 21,
   "id": "995fb931",
   "metadata": {},
   "outputs": [
    {
     "data": {
      "text/plain": [
       "(array([ 524234, 1450863, 1476832]),\n",
       " array([8921273, 3112214, 6912713], dtype=int32),\n",
       " array(['star', 'star', 'star'], dtype='<U4'))"
      ]
     },
     "execution_count": 21,
     "metadata": {},
     "output_type": "execute_result"
    }
   ],
   "source": [
    "pointers = part_form.Pointer.get_pointers(\n",
    "    species_name_from=\"star\", species_names_to=[\"star\", \"gas\"], forward=True\n",
    ")\n",
    "\n",
    "# indices_at_form = part_interest_idxs\n",
    "indices_at_form = part_interest_idxs\n",
    "indices_at_z0 = pointers[\"index\"][indices_at_form]\n",
    "species_at_z0 = pointers[\"species\"][indices_at_form]\n",
    "indices_at_form, indices_at_z0, species_at_z0"
   ]
  },
  {
   "cell_type": "code",
   "execution_count": 22,
   "id": "a97c0f1b",
   "metadata": {},
   "outputs": [
    {
     "data": {
      "text/plain": [
       "array([42251338, 42251338, 42251338], dtype=uint32)"
      ]
     },
     "execution_count": 22,
     "metadata": {},
     "output_type": "execute_result"
    }
   ],
   "source": [
    "part_form[\"star\"][\"id\"][indices_at_form]"
   ]
  },
  {
   "cell_type": "code",
   "execution_count": 23,
   "id": "c2a62112",
   "metadata": {},
   "outputs": [
    {
     "data": {
      "text/plain": [
       "array([42251338, 42251338, 42251338], dtype=uint32)"
      ]
     },
     "execution_count": 23,
     "metadata": {},
     "output_type": "execute_result"
    }
   ],
   "source": [
    "part_z0[\"star\"][\"id\"][indices_at_z0]"
   ]
  },
  {
   "cell_type": "code",
   "execution_count": 53,
   "id": "4a751f5b",
   "metadata": {},
   "outputs": [],
   "source": [
    "part_at_z1 = gizmo.io.Read.read_snapshots(\"star\", \"redshift\", 1, fire_dir, assign_pointers=True)\n",
    "part_at_z2 = gizmo.io.Read.read_snapshots(\"star\", \"redshift\", 2, fire_dir, assign_pointers=True)"
   ]
  },
  {
   "cell_type": "code",
   "execution_count": 54,
   "id": "fcde0104",
   "metadata": {},
   "outputs": [],
   "source": [
    "part_at_z2.Pointer.add_intermediate_pointers(part_at_z1.Pointer)"
   ]
  },
  {
   "cell_type": "code",
   "execution_count": null,
   "id": "3ec79301",
   "metadata": {},
   "outputs": [],
   "source": [
    "pointers = part_at_z2.Pointer.get_pointers(\n",
    "    species_name_from=\"star\", species_names_to=\"star\", intermediate_snapshot=True\n",
    ")\n",
    "\n",
    "star_indices_at_z1 = np.array([2, -1, -2])\n",
    "star_indices_at_z2 = pointers[star_indices_at_z1]"
   ]
  },
  {
   "cell_type": "code",
   "execution_count": 49,
   "id": "7fc4b388",
   "metadata": {},
   "outputs": [
    {
     "data": {
      "text/plain": [
       "array([31374153, 47313841, 16317647], dtype=uint32)"
      ]
     },
     "execution_count": 49,
     "metadata": {},
     "output_type": "execute_result"
    }
   ],
   "source": [
    "part_at_z1[\"star\"][\"id\"][star_indices_at_z1]"
   ]
  },
  {
   "cell_type": "code",
   "execution_count": 50,
   "id": "2c467f9f",
   "metadata": {},
   "outputs": [
    {
     "data": {
      "text/plain": [
       "array([31374153, 47313841, 16317647], dtype=uint32)"
      ]
     },
     "execution_count": 50,
     "metadata": {},
     "output_type": "execute_result"
    }
   ],
   "source": [
    "part_at_z2[\"star\"][\"id\"][star_indices_at_z2]"
   ]
  },
  {
   "cell_type": "code",
   "execution_count": 57,
   "id": "6601b5ca",
   "metadata": {},
   "outputs": [],
   "source": [
    "pointers = part_at_z2.Pointer.get_pointers(\n",
    "    species_name_from=\"star\", species_names_to=\"star\", intermediate_snapshot=True, forward=True\n",
    ")\n",
    "\n",
    "star_indices_at_z2 = np.array([2, -1, -2])\n",
    "star_indices_at_z1 = pointers[star_indices_at_z2]"
   ]
  },
  {
   "cell_type": "code",
   "execution_count": 59,
   "id": "78f48904",
   "metadata": {},
   "outputs": [
    {
     "data": {
      "text/plain": [
       "array([24915325,  8138926,  7343139], dtype=uint32)"
      ]
     },
     "execution_count": 59,
     "metadata": {},
     "output_type": "execute_result"
    }
   ],
   "source": [
    "part_at_z2[\"star\"][\"id\"][star_indices_at_z2]"
   ]
  },
  {
   "cell_type": "code",
   "execution_count": 58,
   "id": "1ab6c30a",
   "metadata": {},
   "outputs": [
    {
     "data": {
      "text/plain": [
       "array([24915325,  8138926,  7343139], dtype=uint32)"
      ]
     },
     "execution_count": 58,
     "metadata": {},
     "output_type": "execute_result"
    }
   ],
   "source": [
    "part_at_z1[\"star\"][\"id\"][star_indices_at_z1]"
   ]
  },
  {
   "cell_type": "code",
   "execution_count": 24,
   "id": "72916f5d",
   "metadata": {},
   "outputs": [],
   "source": [
    "#########################################"
   ]
  },
  {
   "cell_type": "code",
   "execution_count": 27,
   "id": "6f6f72b7",
   "metadata": {},
   "outputs": [],
   "source": [
    "from GC_formation_model import astro_utils"
   ]
  },
  {
   "cell_type": "code",
   "execution_count": 29,
   "id": "514f7391",
   "metadata": {},
   "outputs": [],
   "source": [
    "cosmo = astro_utils.cosmo(h=0.702, omega_baryon=0.0455, omega_matter=0.272)"
   ]
  },
  {
   "cell_type": "code",
   "execution_count": 48,
   "id": "54fd5714",
   "metadata": {},
   "outputs": [
    {
     "data": {
      "text/plain": [
       "array([0.39315334, 0.39361042, 0.3927175 ], dtype=float32)"
      ]
     },
     "execution_count": 48,
     "metadata": {},
     "output_type": "execute_result"
    }
   ],
   "source": [
    "a_s = part_form[\"star\"][\"form.scalefactor\"][indices_at_form]\n",
    "a_s"
   ]
  },
  {
   "cell_type": "code",
   "execution_count": 51,
   "id": "6294d9ab",
   "metadata": {},
   "outputs": [
    {
     "data": {
      "text/plain": [
       "array([4.27808112, 4.28518091, 4.27131362])"
      ]
     },
     "execution_count": 51,
     "metadata": {},
     "output_type": "execute_result"
    }
   ],
   "source": [
    "part_form[\"star\"].prop(\"form.time\")[indices_at_form]"
   ]
  },
  {
   "cell_type": "code",
   "execution_count": 52,
   "id": "b5e22671",
   "metadata": {},
   "outputs": [
    {
     "data": {
      "text/plain": [
       "array([0.10659583, 0.09949603, 0.11336333])"
      ]
     },
     "execution_count": 52,
     "metadata": {},
     "output_type": "execute_result"
    }
   ],
   "source": [
    "part_form[\"star\"].prop(\"age\")[indices_at_form]"
   ]
  },
  {
   "cell_type": "code",
   "execution_count": 47,
   "id": "e0471f09",
   "metadata": {},
   "outputs": [
    {
     "data": {
      "text/plain": [
       "0.3936507996392845"
      ]
     },
     "execution_count": 47,
     "metadata": {},
     "output_type": "execute_result"
    }
   ],
   "source": [
    "scale_a = 1 / (1 + part_form.Snapshot[\"redshift\"][snap_form])\n",
    "scale_a"
   ]
  },
  {
   "cell_type": "code",
   "execution_count": 59,
   "id": "384ce7fc",
   "metadata": {},
   "outputs": [
    {
     "data": {
      "text/plain": [
       "array([ 1.8170525 ,  1.95870109, 12.46928377])"
      ]
     },
     "execution_count": 59,
     "metadata": {},
     "output_type": "execute_result"
    }
   ],
   "source": [
    "x = part_form[\"star\"][\"position\"][part_interest_idxs][:, 0] - halo_pos[0]\n",
    "y = part_form[\"star\"][\"position\"][part_interest_idxs][:, 1] - halo_pos[1]\n",
    "z = part_form[\"star\"][\"position\"][part_interest_idxs][:, 2] - halo_pos[2]\n",
    "\n",
    "r2_s = (x**2 + y**2 + z**2) * (scale_a / cosmo.h) ** 2\n",
    "r = np.sqrt(r2_s)\n",
    "r"
   ]
  },
  {
   "cell_type": "code",
   "execution_count": 61,
   "id": "964d0282",
   "metadata": {},
   "outputs": [
    {
     "data": {
      "text/plain": [
       "array([1.5435369, 1.5405831, 1.5463595], dtype=float32)"
      ]
     },
     "execution_count": 61,
     "metadata": {},
     "output_type": "execute_result"
    }
   ],
   "source": [
    "z_s = -1 + 1.0 / a_s\n",
    "z_s"
   ]
  },
  {
   "cell_type": "code",
   "execution_count": 63,
   "id": "08b8cf83",
   "metadata": {},
   "outputs": [
    {
     "data": {
      "text/plain": [
       "array([4.28945631, 4.29657522, 4.28267111])"
      ]
     },
     "execution_count": 63,
     "metadata": {},
     "output_type": "execute_result"
    }
   ],
   "source": [
    "t_s = np.array(cosmo.cosmicTime(z_s, units=\"Gyr\"))\n",
    "t_s"
   ]
  },
  {
   "cell_type": "code",
   "execution_count": 65,
   "id": "de50e754",
   "metadata": {},
   "outputs": [
    {
     "data": {
      "text/plain": [
       "4.2972041827863645"
      ]
     },
     "execution_count": 65,
     "metadata": {},
     "output_type": "execute_result"
    }
   ],
   "source": [
    "t_form = cosmo.cosmicTime(part_form.Snapshot[\"redshift\"][snap_form], units=\"Gyr\")\n",
    "t_form"
   ]
  },
  {
   "cell_type": "code",
   "execution_count": 67,
   "id": "0fc61fda",
   "metadata": {},
   "outputs": [
    {
     "data": {
      "text/plain": [
       "8.463784525748876"
      ]
     },
     "execution_count": 67,
     "metadata": {},
     "output_type": "execute_result"
    }
   ],
   "source": [
    "t_before = cosmo.cosmicTime(part_form.Snapshot[\"redshift\"][snap_form] - 1, units=\"Gyr\")\n",
    "t_before"
   ]
  },
  {
   "cell_type": "code",
   "execution_count": 68,
   "id": "9703bc1f",
   "metadata": {},
   "outputs": [
    {
     "data": {
      "text/plain": [
       "-4.1665803429625115"
      ]
     },
     "execution_count": 68,
     "metadata": {},
     "output_type": "execute_result"
    }
   ],
   "source": [
    "dt = t_form - t_before\n",
    "dt"
   ]
  },
  {
   "cell_type": "code",
   "execution_count": 71,
   "id": "f371d283",
   "metadata": {},
   "outputs": [
    {
     "data": {
      "text/plain": [
       "array([ True,  True,  True])"
      ]
     },
     "execution_count": 71,
     "metadata": {},
     "output_type": "execute_result"
    }
   ],
   "source": [
    "t_s < t_form"
   ]
  },
  {
   "cell_type": "code",
   "execution_count": 75,
   "id": "e707794f",
   "metadata": {},
   "outputs": [
    {
     "data": {
      "text/plain": [
       "array([ True,  True, False])"
      ]
     },
     "execution_count": 75,
     "metadata": {},
     "output_type": "execute_result"
    }
   ],
   "source": [
    "max_lag_ratio = 1.0\n",
    "t_lag = 0.01\n",
    "\n",
    "t_s > t_form - max(dt * max_lag_ratio, t_lag)"
   ]
  },
  {
   "cell_type": "code",
   "execution_count": 76,
   "id": "1a082dfa",
   "metadata": {},
   "outputs": [
    {
     "data": {
      "text/plain": [
       "array([2, 2, 1])"
      ]
     },
     "execution_count": 76,
     "metadata": {},
     "output_type": "execute_result"
    }
   ],
   "source": [
    "qlt = (t_s > (t_form - t_lag)).astype(int) + 1\n",
    "qlt"
   ]
  }
 ],
 "metadata": {
  "kernelspec": {
   "display_name": ".venv",
   "language": "python",
   "name": "python3"
  },
  "language_info": {
   "codemirror_mode": {
    "name": "ipython",
    "version": 3
   },
   "file_extension": ".py",
   "mimetype": "text/x-python",
   "name": "python",
   "nbconvert_exporter": "python",
   "pygments_lexer": "ipython3",
   "version": "3.11.3"
  }
 },
 "nbformat": 4,
 "nbformat_minor": 5
}
