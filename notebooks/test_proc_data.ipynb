{
 "cells": [
  {
   "cell_type": "code",
   "execution_count": 1,
   "metadata": {},
   "outputs": [],
   "source": [
    "import h5py\n",
    "import numpy as np"
   ]
  },
  {
   "cell_type": "code",
   "execution_count": 2,
   "metadata": {},
   "outputs": [],
   "source": [
    "simulation = \"m12i\"\n",
    "sim_dir = \"/Users/z5114326/Documents/simulations/\"\n",
    "\n",
    "proc_file = sim_dir + simulation + \"/\" + simulation + \"_processed.hdf5\"\n",
    "proc_data = h5py.File(proc_file, \"r\")  # open processed data file"
   ]
  },
  {
   "cell_type": "code",
   "execution_count": 9,
   "metadata": {},
   "outputs": [
    {
     "data": {
      "text/plain": [
       "372"
      ]
     },
     "execution_count": 9,
     "metadata": {},
     "output_type": "execute_result"
    }
   ],
   "source": [
    "ana_mask = proc_data[\"it000\"][\"source\"][\"analyse_flag\"][()] == 1\n",
    "snap_form = proc_data[\"it000\"][\"source\"][\"snap_zform\"][()][ana_mask]\n",
    "snap_form_pub = proc_data[\"it000\"][\"source\"][\"pubsnap_zform\"][()][ana_mask]\n",
    "\n",
    "match_count = 0\n",
    "for snap, pubsnap in zip(snap_form, snap_form_pub):\n",
    "    if snap == pubsnap:\n",
    "        match_count += 1\n",
    "\n",
    "match_count"
   ]
  },
  {
   "cell_type": "code",
   "execution_count": 7,
   "metadata": {},
   "outputs": [
    {
     "data": {
      "text/plain": [
       "array([ -1,  -1,  -1, ..., 510, 510, 554])"
      ]
     },
     "execution_count": 7,
     "metadata": {},
     "output_type": "execute_result"
    }
   ],
   "source": [
    "proc_data[\"it000\"][\"snapshots\"][\"snap214\"][\"acc_snap\"][()]"
   ]
  },
  {
   "cell_type": "code",
   "execution_count": 8,
   "metadata": {},
   "outputs": [
    {
     "data": {
      "text/plain": [
       "array([1550.44483885, 2553.73706274, -727.46643373])"
      ]
     },
     "execution_count": 8,
     "metadata": {},
     "output_type": "execute_result"
    }
   ],
   "source": [
    "proc_data[\"it000\"][\"snapshots\"][\"snap600\"][\"l.xyz\"][1]"
   ]
  },
  {
   "cell_type": "code",
   "execution_count": 17,
   "metadata": {},
   "outputs": [
    {
     "data": {
      "text/plain": [
       "707419"
      ]
     },
     "execution_count": 17,
     "metadata": {},
     "output_type": "execute_result"
    }
   ],
   "source": [
    "np.array(proc_data[\"it001\"][\"snapshots\"][\"snap046\"][\"group_id\"])[13]"
   ]
  },
  {
   "cell_type": "code",
   "execution_count": 18,
   "metadata": {},
   "outputs": [
    {
     "data": {
      "text/plain": [
       "1"
      ]
     },
     "execution_count": 18,
     "metadata": {},
     "output_type": "execute_result"
    }
   ],
   "source": [
    "np.array(proc_data[\"it001\"][\"snapshots\"][\"snap046\"][\"survived_accretion\"])[13]"
   ]
  },
  {
   "cell_type": "code",
   "execution_count": 6,
   "metadata": {},
   "outputs": [
    {
     "data": {
      "text/plain": [
       "<KeysViewHDF5 ['accr_snap', 'analyse_flag', 'gc_id', 'group_id', 'mass', 'ptype']>"
      ]
     },
     "execution_count": 6,
     "metadata": {},
     "output_type": "execute_result"
    }
   ],
   "source": [
    "proc_data[\"it001\"][\"snapshots\"][\"snap600\"].keys()"
   ]
  },
  {
   "cell_type": "code",
   "execution_count": 14,
   "metadata": {},
   "outputs": [
    {
     "data": {
      "text/plain": [
       "13"
      ]
     },
     "execution_count": 14,
     "metadata": {},
     "output_type": "execute_result"
    }
   ],
   "source": [
    "mask = np.where(np.array(proc_data[\"it001\"][\"snapshots\"][\"snap046\"][\"analyse_flag\"]) == 0)\n",
    "len(proc_data[\"it001\"][\"snapshots\"][\"snap046\"][\"analyse_flag\"][mask])"
   ]
  },
  {
   "cell_type": "code",
   "execution_count": 10,
   "metadata": {},
   "outputs": [],
   "source": [
    "proc_data.close()"
   ]
  },
  {
   "cell_type": "code",
   "execution_count": 11,
   "metadata": {},
   "outputs": [],
   "source": [
    "import pandas as pd\n",
    "\n",
    "public_snapshot_file = sim_dir + \"snapshot_times_public.txt\"\n",
    "pub_data = pd.read_table(public_snapshot_file, comment=\"#\", header=None, sep=r\"\\s+\")\n",
    "pub_data.columns = [\n",
    "    \"index\",\n",
    "    \"scale_factor\",\n",
    "    \"redshift\",\n",
    "    \"time_Gyr\",\n",
    "    \"lookback_time_Gyr\",\n",
    "    \"time_width_Myr\",\n",
    "]\n",
    "pub_snaps = np.array(pub_data[\"index\"])\n"
   ]
  },
  {
   "cell_type": "code",
   "execution_count": 12,
   "metadata": {},
   "outputs": [
    {
     "data": {
      "text/plain": [
       "array([ 20,  23,  26,  29,  33,  37,  41,  46,  52,  59,  67,  77,  88,\n",
       "       102, 120, 142, 172, 214, 277, 294, 312, 332, 356, 382, 412, 446,\n",
       "       486, 534, 590, 591, 592, 593, 594, 595, 596, 597, 598, 599, 600])"
      ]
     },
     "execution_count": 12,
     "metadata": {},
     "output_type": "execute_result"
    }
   ],
   "source": [
    "pub_snaps"
   ]
  }
 ],
 "metadata": {
  "kernelspec": {
   "display_name": ".venv",
   "language": "python",
   "name": "python3"
  },
  "language_info": {
   "codemirror_mode": {
    "name": "ipython",
    "version": 3
   },
   "file_extension": ".py",
   "mimetype": "text/x-python",
   "name": "python",
   "nbconvert_exporter": "python",
   "pygments_lexer": "ipython3",
   "version": "3.11.3"
  }
 },
 "nbformat": 4,
 "nbformat_minor": 2
}
