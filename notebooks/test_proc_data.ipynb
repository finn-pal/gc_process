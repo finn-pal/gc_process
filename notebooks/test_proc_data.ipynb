{
 "cells": [
  {
   "cell_type": "code",
   "execution_count": 1,
   "metadata": {},
   "outputs": [],
   "source": [
    "import h5py\n",
    "import numpy as np"
   ]
  },
  {
   "cell_type": "code",
   "execution_count": 2,
   "metadata": {},
   "outputs": [],
   "source": [
    "simulation = \"m12i\"\n",
    "sim_dir = \"/Users/z5114326/Documents/simulations/\"\n",
    "\n",
    "proc_file = sim_dir + simulation + \"/\" + simulation + \"_processed.hdf5\"\n",
    "proc_data = h5py.File(proc_file, \"r\")  # open processed data file"
   ]
  },
  {
   "cell_type": "code",
   "execution_count": 6,
   "metadata": {},
   "outputs": [
    {
     "data": {
      "text/plain": [
       "<KeysViewHDF5 ['snap020', 'snap023', 'snap026', 'snap029', 'snap033', 'snap037', 'snap041', 'snap046', 'snap052', 'snap059', 'snap067', 'snap077', 'snap088', 'snap102', 'snap120', 'snap142', 'snap172', 'snap214', 'snap277', 'snap294', 'snap312', 'snap332', 'snap356', 'snap382', 'snap412', 'snap446', 'snap486', 'snap534', 'snap590', 'snap591', 'snap592', 'snap593', 'snap594', 'snap595', 'snap596', 'snap597', 'snap598', 'snap599', 'snap600']>"
      ]
     },
     "execution_count": 6,
     "metadata": {},
     "output_type": "execute_result"
    }
   ],
   "source": [
    "proc_data[\"it000\"][\"snapshots\"].keys()"
   ]
  },
  {
   "cell_type": "code",
   "execution_count": 7,
   "metadata": {},
   "outputs": [
    {
     "data": {
      "text/plain": [
       "array([        0,    707419,    707419,   -707419,   -707419,   -707419,\n",
       "         -707419,   -707419,  -1297671,  -1920378,  -1920378,  -1920378,\n",
       "         1920378,  -1920378,   1920378,   1920378,  -1920378,  -1920378,\n",
       "        -1920378,  -1920378,  -1920378,   1920378,  -1920378,  -1920378,\n",
       "        -2422680,  -2422680,  -2422680,  -4414957,  -4414957,  -4414957,\n",
       "         4414957,  -4414957,  -4414957,  -4414957,  -4414957,  -4414957,\n",
       "        -4414957,  -4414957,   4414957,  -4414957,  -4414957,  -4414957,\n",
       "        -4414957,  -4414957,  -4414957,  -4414957,  -4414957,  -4414957,\n",
       "        -4414957,  -4414957,   4414957,  -4414957,  -4414957,  -4414957,\n",
       "        -4414957,  -4414957,  -4414957,  -4414957,  -4414957,  -4906476,\n",
       "        -4906476,  -5583343,  -5583343,  -5583343,  -6808839,  -8580896,\n",
       "        -8580896,  -8580896,  -8580896,  -8580896,  -8580896,  -8580896,\n",
       "        -8580896,  -8580896,  -8580896,  -8580896,  -8580896,  -8580896,\n",
       "        -8580896,  -8580896,  -8580896,  -8580896,  -8580896,  -8580896,\n",
       "        -8580896,  -8580896,  -8580896,  -8580896,  -8580896,  -8580896,\n",
       "        -8580896,  -8580896,  -8580896,  -8580896,  -8580896,  -8580896,\n",
       "        -8580896,  -8580896,  -8580896, -10426496, -13687078, -13687078,\n",
       "       -13687078, -13687078, -13687078, -13687078, -13687078, -13687078,\n",
       "       -13687078, -13687078, -13687078, -13687078, -13687078, -14194861,\n",
       "       -14194861, -14194861, -14194861, -14194861, -14194861, -15817538,\n",
       "       -15817538, -15817538, -16199669, -16199669, -19898495, -19898495,\n",
       "       -19898495, -19898495, -19898495, -19898495, -19898495, -19898495,\n",
       "       -19898495, -19898495, -19898495, -19898495, -19898495, -19898495,\n",
       "       -19898495, -19898495, -21324265, -21324265, -21324265, -21324265,\n",
       "       -21324265, -21324265, -21324265, -21324265, -21324265, -21324265,\n",
       "       -21324265, -21324265, -21324265, -21324265, -21324265, -21324265,\n",
       "       -21324265, -21324265, -21324265, -21324265, -23258167])"
      ]
     },
     "execution_count": 7,
     "metadata": {},
     "output_type": "execute_result"
    }
   ],
   "source": [
    "proc_data[\"it000\"][\"snapshots\"][\"snap026\"][\"group_id\"][()]"
   ]
  },
  {
   "cell_type": "code",
   "execution_count": 8,
   "metadata": {},
   "outputs": [
    {
     "data": {
      "text/plain": [
       "array([[-1.        , -1.        , -1.        ],\n",
       "       [-1.        , -1.        , -1.        ],\n",
       "       [-1.        , -1.        , -1.        ],\n",
       "       ...,\n",
       "       [-0.24471196,  0.03241517, -0.12686722],\n",
       "       [-0.01898297,  0.01069316,  0.29177427],\n",
       "       [-0.22368136, -0.09216019, -0.24817684]])"
      ]
     },
     "execution_count": 8,
     "metadata": {},
     "output_type": "execute_result"
    }
   ],
   "source": [
    "proc_data[\"it000\"][\"snapshots\"][\"snap077\"][\"halo.pos.xyz\"][()]"
   ]
  },
  {
   "cell_type": "code",
   "execution_count": 13,
   "metadata": {},
   "outputs": [
    {
     "data": {
      "text/plain": [
       "372"
      ]
     },
     "execution_count": 13,
     "metadata": {},
     "output_type": "execute_result"
    }
   ],
   "source": [
    "ana_mask = proc_data[\"it000\"][\"source\"][\"analyse_flag\"][()] == 1\n",
    "snap_form = proc_data[\"it000\"][\"source\"][\"snap_zform\"][()][ana_mask]\n",
    "snap_form_pub = proc_data[\"it000\"][\"source\"][\"pubsnap_zform\"][()][ana_mask]\n",
    "\n",
    "match_count = 0\n",
    "for snap, pubsnap in zip(snap_form, snap_form_pub):\n",
    "    if snap == pubsnap:\n",
    "        match_count += 1\n",
    "\n",
    "match_count"
   ]
  },
  {
   "cell_type": "code",
   "execution_count": 17,
   "metadata": {},
   "outputs": [
    {
     "data": {
      "text/plain": [
       "array([ 8368391, 67974345,  2469680, ...,  4711634,  1850400,   396626])"
      ]
     },
     "execution_count": 17,
     "metadata": {},
     "output_type": "execute_result"
    }
   ],
   "source": [
    "proc_data[\"it000\"][\"snapshots\"][\"snap277\"][\"snap_part_idx\"][()]"
   ]
  },
  {
   "cell_type": "code",
   "execution_count": 35,
   "metadata": {},
   "outputs": [
    {
     "data": {
      "text/plain": [
       "<HDF5 dataset \"l.xyz\": shape (227, 3), type \"<f8\">"
      ]
     },
     "execution_count": 35,
     "metadata": {},
     "output_type": "execute_result"
    }
   ],
   "source": [
    "proc_data[\"it001\"][\"snapshots\"][\"snap600\"][\"l.xyz\"]"
   ]
  },
  {
   "cell_type": "code",
   "execution_count": 17,
   "metadata": {},
   "outputs": [
    {
     "data": {
      "text/plain": [
       "707419"
      ]
     },
     "execution_count": 17,
     "metadata": {},
     "output_type": "execute_result"
    }
   ],
   "source": [
    "np.array(proc_data[\"it001\"][\"snapshots\"][\"snap046\"][\"group_id\"])[13]"
   ]
  },
  {
   "cell_type": "code",
   "execution_count": 18,
   "metadata": {},
   "outputs": [
    {
     "data": {
      "text/plain": [
       "1"
      ]
     },
     "execution_count": 18,
     "metadata": {},
     "output_type": "execute_result"
    }
   ],
   "source": [
    "np.array(proc_data[\"it001\"][\"snapshots\"][\"snap046\"][\"survived_accretion\"])[13]"
   ]
  },
  {
   "cell_type": "code",
   "execution_count": 6,
   "metadata": {},
   "outputs": [
    {
     "data": {
      "text/plain": [
       "<KeysViewHDF5 ['accr_snap', 'analyse_flag', 'gc_id', 'group_id', 'mass', 'ptype']>"
      ]
     },
     "execution_count": 6,
     "metadata": {},
     "output_type": "execute_result"
    }
   ],
   "source": [
    "proc_data[\"it001\"][\"snapshots\"][\"snap600\"].keys()"
   ]
  },
  {
   "cell_type": "code",
   "execution_count": 14,
   "metadata": {},
   "outputs": [
    {
     "data": {
      "text/plain": [
       "13"
      ]
     },
     "execution_count": 14,
     "metadata": {},
     "output_type": "execute_result"
    }
   ],
   "source": [
    "mask = np.where(np.array(proc_data[\"it001\"][\"snapshots\"][\"snap046\"][\"analyse_flag\"]) == 0)\n",
    "len(proc_data[\"it001\"][\"snapshots\"][\"snap046\"][\"analyse_flag\"][mask])"
   ]
  },
  {
   "cell_type": "code",
   "execution_count": 8,
   "metadata": {},
   "outputs": [],
   "source": [
    "proc_data.close()"
   ]
  },
  {
   "cell_type": "code",
   "execution_count": 11,
   "metadata": {},
   "outputs": [],
   "source": [
    "import pandas as pd\n",
    "\n",
    "public_snapshot_file = sim_dir + \"snapshot_times_public.txt\"\n",
    "pub_data = pd.read_table(public_snapshot_file, comment=\"#\", header=None, sep=r\"\\s+\")\n",
    "pub_data.columns = [\n",
    "    \"index\",\n",
    "    \"scale_factor\",\n",
    "    \"redshift\",\n",
    "    \"time_Gyr\",\n",
    "    \"lookback_time_Gyr\",\n",
    "    \"time_width_Myr\",\n",
    "]\n",
    "pub_snaps = np.array(pub_data[\"index\"])\n"
   ]
  },
  {
   "cell_type": "code",
   "execution_count": 12,
   "metadata": {},
   "outputs": [
    {
     "data": {
      "text/plain": [
       "array([ 20,  23,  26,  29,  33,  37,  41,  46,  52,  59,  67,  77,  88,\n",
       "       102, 120, 142, 172, 214, 277, 294, 312, 332, 356, 382, 412, 446,\n",
       "       486, 534, 590, 591, 592, 593, 594, 595, 596, 597, 598, 599, 600])"
      ]
     },
     "execution_count": 12,
     "metadata": {},
     "output_type": "execute_result"
    }
   ],
   "source": [
    "pub_snaps"
   ]
  },
  {
   "cell_type": "code",
   "execution_count": 18,
   "metadata": {},
   "outputs": [
    {
     "data": {
      "text/plain": [
       "2"
      ]
     },
     "execution_count": 18,
     "metadata": {},
     "output_type": "execute_result"
    }
   ],
   "source": [
    "test = \"False\"\n",
    "test_b = bool(test)\n",
    "\n",
    "if test:\n",
    "    t = 0\n",
    "if not test:\n",
    "    t = 1\n",
    "else:\n",
    "    t = 2\n",
    "\n",
    "t"
   ]
  }
 ],
 "metadata": {
  "kernelspec": {
   "display_name": ".venv",
   "language": "python",
   "name": "python3"
  },
  "language_info": {
   "codemirror_mode": {
    "name": "ipython",
    "version": 3
   },
   "file_extension": ".py",
   "mimetype": "text/x-python",
   "name": "python",
   "nbconvert_exporter": "python",
   "pygments_lexer": "ipython3",
   "version": "3.11.3"
  }
 },
 "nbformat": 4,
 "nbformat_minor": 2
}
