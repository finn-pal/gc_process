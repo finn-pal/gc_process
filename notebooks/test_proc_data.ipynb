{
 "cells": [
  {
   "cell_type": "code",
   "execution_count": 8,
   "metadata": {},
   "outputs": [],
   "source": [
    "import h5py\n",
    "import numpy as np"
   ]
  },
  {
   "cell_type": "code",
   "execution_count": 2,
   "metadata": {},
   "outputs": [],
   "source": [
    "simulation = \"m12i\"\n",
    "sim_dir = \"/Users/z5114326/Documents/simulations/\"\n",
    "\n",
    "proc_file = sim_dir + simulation + \"/\" + simulation + \"_processed.hdf5\"\n",
    "proc_data = h5py.File(proc_file, \"a\")  # open processed data file"
   ]
  },
  {
   "cell_type": "code",
   "execution_count": 9,
   "metadata": {},
   "outputs": [
    {
     "data": {
      "text/plain": [
       "array([3.757, 3.735, 4.084, 3.849, 3.925, 3.732, 3.812, 4.043, 4.243,\n",
       "       3.98 , 3.775, 3.903, 4.391, 3.871, 3.914, 3.784, 3.992, 3.775,\n",
       "       4.54 , 3.912, 4.476, 3.755, 4.259, 4.285, 3.922, 4.024, 4.253,\n",
       "       4.101, 3.686, 3.883, 4.046, 4.525, 4.433, 4.272, 3.918, 4.375,\n",
       "       4.051, 4.175, 4.3  , 3.801, 4.114, 4.127, 3.872, 4.131, 4.396,\n",
       "       3.862, 4.421, 3.742, 4.57 , 3.959, 4.025, 3.808, 3.95 , 4.343,\n",
       "       4.007, 3.991, 3.973, 3.81 , 3.953, 3.869, 4.294, 3.895, 3.773,\n",
       "       4.036, 3.841, 3.762, 3.808, 3.779, 3.698, 3.812, 3.779, 3.863,\n",
       "       4.012, 3.906, 4.26 , 4.168, 4.395, 3.757, 3.867, 3.845, 4.05 ])"
      ]
     },
     "execution_count": 9,
     "metadata": {},
     "output_type": "execute_result"
    }
   ],
   "source": [
    "np.array(proc_data[\"it001\"][\"snapshots\"][\"snap020\"][\"mass\"])"
   ]
  },
  {
   "cell_type": "code",
   "execution_count": 10,
   "metadata": {},
   "outputs": [],
   "source": [
    "proc_data.close()"
   ]
  }
 ],
 "metadata": {
  "kernelspec": {
   "display_name": ".venv",
   "language": "python",
   "name": "python3"
  },
  "language_info": {
   "codemirror_mode": {
    "name": "ipython",
    "version": 3
   },
   "file_extension": ".py",
   "mimetype": "text/x-python",
   "name": "python",
   "nbconvert_exporter": "python",
   "pygments_lexer": "ipython3",
   "version": "3.11.3"
  }
 },
 "nbformat": 4,
 "nbformat_minor": 2
}
