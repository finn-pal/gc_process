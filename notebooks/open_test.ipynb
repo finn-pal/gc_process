{
 "cells": [
  {
   "cell_type": "code",
   "execution_count": 29,
   "metadata": {},
   "outputs": [],
   "source": [
    "import random\n",
    "\n",
    "import h5py\n",
    "import numpy as np\n"
   ]
  },
  {
   "cell_type": "code",
   "execution_count": 30,
   "metadata": {},
   "outputs": [],
   "source": [
    "def iteration_name(it: int) -> str:\n",
    "    \"\"\"\n",
    "    Get 3 digit iteration id name from iteration number\n",
    "\n",
    "    Args:\n",
    "        it (int): Iteration number.\n",
    "\n",
    "    Returns:\n",
    "        str: Iteration id name.\n",
    "    \"\"\"\n",
    "    # ensure group naming is consitent with three digits\n",
    "    if len(str(it)) == 1:\n",
    "        it_id = \"it00\" + str(it)\n",
    "    elif len(str(it)) == 2:\n",
    "        it_id = \"it0\" + str(it)\n",
    "    else:\n",
    "        it_id = \"it\" + str(it)\n",
    "\n",
    "    return it_id"
   ]
  },
  {
   "cell_type": "code",
   "execution_count": 31,
   "metadata": {},
   "outputs": [],
   "source": [
    "path = \"/Users/z5114326/Documents/GitHub/GC_kinematics_katana/data/simulations/m12i/m12i_processed.hdf5\"\n",
    "path = \"/Users/z5114326/Desktop/fire/m12i/m12i_processed.hdf5\"\n",
    "f = h5py.File(path, \"r\")"
   ]
  },
  {
   "cell_type": "code",
   "execution_count": 32,
   "metadata": {},
   "outputs": [
    {
     "data": {
      "text/plain": [
       "<KeysViewHDF5 ['it000', 'it001', 'it002', 'it003', 'it004', 'it005', 'it006', 'it007', 'it008', 'it009', 'it010', 'it011', 'it012', 'it013', 'it014', 'it015', 'it016', 'it017', 'it018', 'it019', 'it020', 'it021', 'it022', 'it023', 'it024', 'it025', 'it026', 'it027', 'it028', 'it029', 'it030', 'it031', 'it032', 'it033', 'it034', 'it035', 'it036', 'it037', 'it038', 'it039', 'it040', 'it041', 'it042', 'it043', 'it044', 'it045', 'it046', 'it047', 'it048', 'it049', 'it050', 'it051', 'it052', 'it053', 'it054', 'it055', 'it056', 'it057', 'it058', 'it059', 'it060', 'it061', 'it062', 'it063', 'it064', 'it065', 'it066', 'it067', 'it068', 'it069', 'it070', 'it071', 'it072', 'it073', 'it074', 'it075', 'it076', 'it077', 'it078', 'it079', 'it080', 'it081', 'it082', 'it083', 'it084', 'it085', 'it086', 'it087', 'it088', 'it089', 'it090', 'it091', 'it092', 'it093', 'it094', 'it095', 'it096', 'it097', 'it098', 'it099', 'it100']>"
      ]
     },
     "execution_count": 32,
     "metadata": {},
     "output_type": "execute_result"
    }
   ],
   "source": [
    "f.keys()"
   ]
  },
  {
   "cell_type": "code",
   "execution_count": 35,
   "metadata": {},
   "outputs": [
    {
     "data": {
      "text/plain": [
       "<KeysViewHDF5 ['accretion_flag', 'analyse_flag', 'feh', 'form_lbt', 'form_time', 'gc_id', 'group_id', 'halo_acc_cid', 'halo_acc_tid', 'halo_pre_acc_cid', 'halo_pre_acc_tid', 'halo_z0', 'halo_zform', 'is_mpb', 'last_snap', 'logm_tform', 'logm_z0', 'ptype', 'pubsnap_zform', 'quality', 'real_flag', 'snap_acc', 'snap_pre_acc', 'snap_zform', 'survive_flag', 'survived_accretion', 't_acc', 't_dis', 'zform']>"
      ]
     },
     "execution_count": 35,
     "metadata": {},
     "output_type": "execute_result"
    }
   ],
   "source": [
    "f[\"it000\"][\"source\"].keys()"
   ]
  },
  {
   "cell_type": "code",
   "execution_count": 36,
   "metadata": {},
   "outputs": [],
   "source": [
    "f.close()"
   ]
  }
 ],
 "metadata": {
  "kernelspec": {
   "display_name": ".venv",
   "language": "python",
   "name": "python3"
  },
  "language_info": {
   "codemirror_mode": {
    "name": "ipython",
    "version": 3
   },
   "file_extension": ".py",
   "mimetype": "text/x-python",
   "name": "python",
   "nbconvert_exporter": "python",
   "pygments_lexer": "ipython3",
   "version": "3.11.3"
  }
 },
 "nbformat": 4,
 "nbformat_minor": 2
}
