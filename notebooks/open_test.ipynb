{
 "cells": [
  {
   "cell_type": "code",
   "execution_count": 19,
   "metadata": {},
   "outputs": [],
   "source": [
    "import random\n",
    "\n",
    "import h5py\n",
    "import numpy as np\n"
   ]
  },
  {
   "cell_type": "code",
   "execution_count": 20,
   "metadata": {},
   "outputs": [],
   "source": [
    "def iteration_name(it: int) -> str:\n",
    "    \"\"\"\n",
    "    Get 3 digit iteration id name from iteration number\n",
    "\n",
    "    Args:\n",
    "        it (int): Iteration number.\n",
    "\n",
    "    Returns:\n",
    "        str: Iteration id name.\n",
    "    \"\"\"\n",
    "    # ensure group naming is consitent with three digits\n",
    "    if len(str(it)) == 1:\n",
    "        it_id = \"it00\" + str(it)\n",
    "    elif len(str(it)) == 2:\n",
    "        it_id = \"it0\" + str(it)\n",
    "    else:\n",
    "        it_id = \"it\" + str(it)\n",
    "\n",
    "    return it_id"
   ]
  },
  {
   "cell_type": "code",
   "execution_count": 21,
   "metadata": {},
   "outputs": [],
   "source": [
    "path = \"/Users/z5114326/Documents/GitHub/GC_kinematics_katana/data/simulations/m12i/m12i_processed.hdf5\"\n",
    "path = \"/Users/z5114326/Desktop/fire/m12i/m12i_processed.hdf5\"\n",
    "f = h5py.File(path, \"r\")"
   ]
  },
  {
   "cell_type": "code",
   "execution_count": 22,
   "metadata": {},
   "outputs": [
    {
     "data": {
      "text/plain": [
       "<KeysViewHDF5 ['it000']>"
      ]
     },
     "execution_count": 22,
     "metadata": {},
     "output_type": "execute_result"
    }
   ],
   "source": [
    "f.keys()"
   ]
  },
  {
   "cell_type": "code",
   "execution_count": 18,
   "metadata": {},
   "outputs": [
    {
     "data": {
      "text/plain": [
       "<KeysViewHDF5 ['accretion_flag', 'analyse_flag', 'feh', 'form_lbt', 'form_time', 'gc_id', 'group_id', 'halo_acc_cid', 'halo_acc_tid', 'halo_pre_acc_cid', 'halo_pre_acc_tid', 'halo_z0', 'halo_zform', 'is_mpb', 'last_snap', 'logm_tform', 'logm_z0', 'ptype', 'pubsnap_zform', 'quality', 'real_flag', 'snap_acc', 'snap_pre_acc', 'snap_zform', 'survive_flag', 'survived_accretion', 't_acc', 't_dis', 'zform']>"
      ]
     },
     "execution_count": 18,
     "metadata": {},
     "output_type": "execute_result"
    }
   ],
   "source": [
    "f[\"it000\"][\"source\"].keys()"
   ]
  },
  {
   "cell_type": "code",
   "execution_count": 27,
   "metadata": {},
   "outputs": [
    {
     "name": "stdout",
     "output_type": "stream",
     "text": [
      "13451\n",
      "13451\n",
      "13451\n",
      "13451\n",
      "13451\n",
      "13451\n",
      "13451\n",
      "13451\n",
      "13451\n",
      "13451\n",
      "13451\n",
      "13451\n",
      "13451\n",
      "13451\n",
      "13451\n",
      "13451\n",
      "13451\n",
      "13451\n",
      "13451\n",
      "13451\n",
      "13451\n",
      "13451\n",
      "13451\n",
      "13451\n",
      "13451\n",
      "13451\n",
      "13451\n",
      "13451\n",
      "13451\n"
     ]
    }
   ],
   "source": [
    "for key in f[\"it000\"][\"source\"].keys():\n",
    "    print(len(f[\"it000\"][\"source\"][key]))"
   ]
  },
  {
   "cell_type": "code",
   "execution_count": 28,
   "metadata": {},
   "outputs": [],
   "source": [
    "f.close()"
   ]
  }
 ],
 "metadata": {
  "kernelspec": {
   "display_name": ".venv",
   "language": "python",
   "name": "python3"
  },
  "language_info": {
   "codemirror_mode": {
    "name": "ipython",
    "version": 3
   },
   "file_extension": ".py",
   "mimetype": "text/x-python",
   "name": "python",
   "nbconvert_exporter": "python",
   "pygments_lexer": "ipython3",
   "version": "3.11.3"
  }
 },
 "nbformat": 4,
 "nbformat_minor": 2
}
