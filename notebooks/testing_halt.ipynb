{
 "cells": [
  {
   "cell_type": "code",
   "execution_count": 2,
   "id": "f6151812",
   "metadata": {},
   "outputs": [],
   "source": [
    "import halo_analysis as halo\n",
    "import numpy as np"
   ]
  },
  {
   "cell_type": "code",
   "execution_count": 3,
   "id": "570c3331",
   "metadata": {},
   "outputs": [],
   "source": [
    "## function inputs\n",
    "sim = \"m12i\"\n",
    "# snapshot = 600\n",
    "snapshot = 214  # most gcs\n",
    "main_halo_tid = 25236877\n",
    "\n",
    "# sim_dir = \"../../simulations/\"\n",
    "sim_dir = \"../../../simulations/\"  # went up an extra level as in notebook folder\n",
    "data_dict = {}\n",
    "\n",
    "it_lst = [0]\n",
    "\n",
    "fire_dir = sim_dir + sim + \"/\" + sim + \"_res7100/\""
   ]
  },
  {
   "cell_type": "code",
   "execution_count": 4,
   "id": "120ac8a0",
   "metadata": {},
   "outputs": [
    {
     "name": "stdout",
     "output_type": "stream",
     "text": [
      "\n",
      "# in utilities.simulation.Snapshot():\n",
      "* reading:  simulations/m12i/m12i_res7100/snapshot_times.txt\n",
      "\n",
      "\n",
      "# in halo_analysis.halo_io.IO():\n",
      "* read 17859038 halos from:  simulations/m12i/m12i_res7100/halo/rockstar_dm/catalog_hdf5/tree.hdf5\n",
      "\n"
     ]
    }
   ],
   "source": [
    "halt = halt = halo.io.IO.read_tree(simulation_directory=fire_dir)"
   ]
  },
  {
   "cell_type": "code",
   "execution_count": 5,
   "id": "e83abae2",
   "metadata": {},
   "outputs": [
    {
     "data": {
      "text/plain": [
       "6279613"
      ]
     },
     "execution_count": 5,
     "metadata": {},
     "output_type": "execute_result"
    }
   ],
   "source": [
    "idx = np.where(halt[\"tid\"] == main_halo_tid)[0][0]\n",
    "snapshot_hold = halt[\"snapshot\"][idx]\n",
    "\n",
    "while snapshot_hold > snapshot:\n",
    "    idx = halt[\"progenitor.main.index\"][idx]\n",
    "    snapshot_hold = halt[\"snapshot\"][idx]\n",
    "\n",
    "halt[\"tid\"][idx]"
   ]
  },
  {
   "cell_type": "code",
   "execution_count": 6,
   "id": "9456aa3e",
   "metadata": {},
   "outputs": [
    {
     "data": {
      "text/plain": [
       "6279613"
      ]
     },
     "execution_count": 6,
     "metadata": {},
     "output_type": "execute_result"
    }
   ],
   "source": [
    "idx = np.flatnonzero(halt[\"tid\"] == main_halo_tid)[0]\n",
    "snapshot_hold = halt[\"snapshot\"][idx]\n",
    "\n",
    "while snapshot_hold > snapshot:\n",
    "    idx = halt[\"progenitor.main.index\"][idx]\n",
    "    snapshot_hold = halt[\"snapshot\"][idx]\n",
    "\n",
    "halt[\"tid\"][idx]"
   ]
  },
  {
   "cell_type": "code",
   "execution_count": null,
   "id": "3bc92e63",
   "metadata": {},
   "outputs": [
    {
     "data": {
      "text/plain": [
       "6279613"
      ]
     },
     "execution_count": 8,
     "metadata": {},
     "output_type": "execute_result"
    }
   ],
   "source": [
    "# tid_to_idx = None\n",
    "\n",
    "# if tid_to_idx is None:\n",
    "#     tid_to_idx = {tid: i for i, tid in enumerate(halt[\"tid\"])}  # build on the fly\n",
    "\n",
    "# idx = tid_to_idx[main_halo_tid]\n",
    "# snapshots = halt[\"snapshot\"]\n",
    "# prog_main = halt[\"progenitor.main.index\"]\n",
    "\n",
    "# while snapshots[idx] > snapshot:\n",
    "#     idx = prog_main[idx]\n",
    "\n",
    "# halt[\"tid\"][idx]"
   ]
  },
  {
   "cell_type": "code",
   "execution_count": null,
   "id": "f748d118",
   "metadata": {},
   "outputs": [],
   "source": []
  }
 ],
 "metadata": {
  "kernelspec": {
   "display_name": ".venv",
   "language": "python",
   "name": "python3"
  },
  "language_info": {
   "codemirror_mode": {
    "name": "ipython",
    "version": 3
   },
   "file_extension": ".py",
   "mimetype": "text/x-python",
   "name": "python",
   "nbconvert_exporter": "python",
   "pygments_lexer": "ipython3",
   "version": "3.11.3"
  }
 },
 "nbformat": 4,
 "nbformat_minor": 5
}
