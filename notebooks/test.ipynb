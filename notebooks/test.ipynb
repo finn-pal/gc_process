{
 "cells": [
  {
   "cell_type": "code",
   "execution_count": 25,
   "metadata": {},
   "outputs": [],
   "source": [
    "import json\n",
    "\n",
    "import numpy as np\n",
    "\n",
    "sim_dir = \"/Users/z5114326/Desktop/fire/\"\n",
    "data_dir = \"/Users/z5114326/Documents/GitHub/GC_kinematics_katana/data/\"\n",
    "sim_codes = \"data/external/simulation_codes.json\"\n",
    "sim = \"m12i\""
   ]
  },
  {
   "cell_type": "code",
   "execution_count": 26,
   "metadata": {},
   "outputs": [],
   "source": [
    "it_id = \"it000\"\n",
    "\n",
    "data_file = data_dir + \"results/\" + sim + \"/interim/\" + it_id + \".json\"\n",
    "\n",
    "with open(data_file, \"r\") as json_file:\n",
    "    int_data = json.load(json_file)"
   ]
  },
  {
   "cell_type": "code",
   "execution_count": 27,
   "metadata": {},
   "outputs": [
    {
     "data": {
      "text/plain": [
       "dict_keys(['gc_id', 'quality', 'halo_z0', 'logm_tform', 'zform', 'halo_zform', 'snap_zform', 'is_mpb', 'feh', 'logm_z0', 't_dis', 'survive_flag', 'form_time', 'form_lbt', 'pubsnap_zform', 'last_snap', 'real_flag', 'accretion_flag', 'analyse_flag', 't_acc', 'halo_acc_tid', 'halo_acc_cid', 'snap_acc', 'halo_pre_acc_tid', 'halo_pre_acc_cid', 'snap_pre_acc', 'survived_accretion', 'ptype', 'group_id'])"
      ]
     },
     "execution_count": 27,
     "metadata": {},
     "output_type": "execute_result"
    }
   ],
   "source": [
    "int_data[\"it000\"][\"source\"].keys()"
   ]
  },
  {
   "cell_type": "code",
   "execution_count": 28,
   "metadata": {},
   "outputs": [],
   "source": [
    "def iteration_name(it: int) -> str:\n",
    "    \"\"\"\n",
    "    Get 3 digit iteration id name from iteration number\n",
    "\n",
    "    Args:\n",
    "        it (int): Iteration number.\n",
    "\n",
    "    Returns:\n",
    "        str: Iteration id name.\n",
    "    \"\"\"\n",
    "    # ensure group naming is consitent with three digits\n",
    "    if len(str(it)) == 1:\n",
    "        it_id = \"it00\" + str(it)\n",
    "    elif len(str(it)) == 2:\n",
    "        it_id = \"it0\" + str(it)\n",
    "    else:\n",
    "        it_id = \"it\" + str(it)\n",
    "\n",
    "    return it_id"
   ]
  },
  {
   "cell_type": "code",
   "execution_count": 29,
   "metadata": {},
   "outputs": [],
   "source": [
    "import os\n",
    "\n",
    "import h5py"
   ]
  },
  {
   "cell_type": "code",
   "execution_count": 32,
   "metadata": {},
   "outputs": [],
   "source": [
    "save_file = sim_dir + sim + \"/\" + sim + \"_processed.hdf5\"  # save location\n",
    "\n",
    "if not os.path.exists(save_file):\n",
    "    h5py.File(save_file, \"w\")\n",
    "\n",
    "with h5py.File(save_file, \"a\") as hdf:\n",
    "    for i in range(0, 1):\n",
    "        it_id = iteration_name(i)\n",
    "        data_dict = int_data[it_id][\"source\"]\n",
    "\n",
    "        if it_id in hdf.keys():\n",
    "            grouping = hdf[it_id]\n",
    "        else:\n",
    "            grouping = hdf.create_group(it_id)\n",
    "        if \"source\" in grouping.keys():\n",
    "            source = grouping[\"source\"]\n",
    "        else:\n",
    "            source = grouping.create_group(\"source\")\n",
    "        for key in data_dict.keys():\n",
    "            if key in source.keys():\n",
    "                del source[key]\n",
    "            if key == \"ptype\":\n",
    "                source.create_dataset(key, data=data_dict[key])\n",
    "            else:\n",
    "                source.create_dataset(key, data=np.array(data_dict[key]))"
   ]
  },
  {
   "cell_type": "code",
   "execution_count": null,
   "metadata": {},
   "outputs": [],
   "source": []
  }
 ],
 "metadata": {
  "kernelspec": {
   "display_name": ".venv",
   "language": "python",
   "name": "python3"
  },
  "language_info": {
   "codemirror_mode": {
    "name": "ipython",
    "version": 3
   },
   "file_extension": ".py",
   "mimetype": "text/x-python",
   "name": "python",
   "nbconvert_exporter": "python",
   "pygments_lexer": "ipython3",
   "version": "3.11.3"
  }
 },
 "nbformat": 4,
 "nbformat_minor": 2
}
